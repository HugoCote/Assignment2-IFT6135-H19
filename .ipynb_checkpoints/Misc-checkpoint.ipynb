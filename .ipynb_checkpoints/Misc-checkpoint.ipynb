{
 "cells": [
  {
   "cell_type": "code",
   "execution_count": 7,
   "metadata": {},
   "outputs": [],
   "source": [
    "import numpy as np\n",
    "import argparse\n",
    "import time\n",
    "import collections\n",
    "import os\n",
    "import sys\n",
    "import torch\n",
    "from torch.autograd import Variable\n",
    "import torch.nn as nn\n",
    "import copy\n",
    "\n",
    "import matplotlib.pyplot as plt "
   ]
  },
  {
   "cell_type": "code",
   "execution_count": 8,
   "metadata": {},
   "outputs": [
    {
     "name": "stdout",
     "output_type": "stream",
     "text": [
      "salut\n"
     ]
    }
   ],
   "source": [
    "import models\n",
    "from models import make_model as TRANSFORMER\n",
    "# __import__(\"ptb-lm\")\n",
    "print(\"salut\")"
   ]
  },
  {
   "cell_type": "code",
   "execution_count": 9,
   "metadata": {},
   "outputs": [
    {
     "name": "stdout",
     "output_type": "stream",
     "text": [
      "cuda:0\n"
     ]
    }
   ],
   "source": [
    "device = torch.device(\"cuda:0\" if torch.cuda.is_available() else \"cpu\")\n",
    "print(device)"
   ]
  },
  {
   "cell_type": "markdown",
   "metadata": {},
   "source": [
    "### Code given by TAs"
   ]
  },
  {
   "cell_type": "code",
   "execution_count": 4,
   "metadata": {},
   "outputs": [],
   "source": [
    "# HELPER FUNCTIONS\n",
    "def _read_words(filename):\n",
    "    with open(filename, \"r\") as f:\n",
    "      return f.read().replace(\"\\n\", \"<eos>\").split()\n",
    "\n",
    "def _build_vocab(filename):\n",
    "    data = _read_words(filename)\n",
    "\n",
    "    counter = collections.Counter(data)\n",
    "    count_pairs = sorted(counter.items(), key=lambda x: (-x[1], x[0]))\n",
    "\n",
    "    words, _ = list(zip(*count_pairs))\n",
    "    word_to_id = dict(zip(words, range(len(words))))\n",
    "    id_to_word = dict((v, k) for k, v in word_to_id.items())\n",
    "\n",
    "    return word_to_id, id_to_word\n",
    "\n",
    "def _file_to_word_ids(filename, word_to_id):\n",
    "    data = _read_words(filename)\n",
    "    return [word_to_id[word] for word in data if word in word_to_id]\n",
    "\n",
    "# Processes the raw data from text files\n",
    "def ptb_raw_data(data_path=None, prefix=\"ptb\"):\n",
    "    train_path = os.path.join(data_path, prefix + \".train.txt\")\n",
    "    valid_path = os.path.join(data_path, prefix + \".valid.txt\")\n",
    "    test_path  = os.path.join(data_path, prefix + \".test.txt\")\n",
    "\n",
    "    word_to_id, id_2_word = _build_vocab(train_path)\n",
    "    train_data = _file_to_word_ids(train_path, word_to_id)\n",
    "    valid_data = _file_to_word_ids(valid_path, word_to_id)\n",
    "    test_data  = _file_to_word_ids(test_path , word_to_id)\n",
    "    return train_data, valid_data, test_data, word_to_id, id_2_word\n",
    "\n",
    "# Yields minibatches of data\n",
    "def ptb_iterator(raw_data, batch_size, num_steps):\n",
    "    raw_data = np.array(raw_data, dtype=np.int32)\n",
    "\n",
    "    data_len = len(raw_data)\n",
    "    batch_len = data_len // batch_size\n",
    "    data = np.zeros([batch_size, batch_len], dtype=np.int32)\n",
    "    for i in range(batch_size):\n",
    "        data[i] = raw_data[batch_len * i:batch_len * (i + 1)]\n",
    "\n",
    "    epoch_size = (batch_len - 1) // num_steps\n",
    "\n",
    "    if epoch_size == 0:\n",
    "        raise ValueError(\"epoch_size == 0, decrease batch_size or num_steps\")\n",
    "\n",
    "    for i in range(epoch_size):\n",
    "        x = data[:, i*num_steps:(i+1)*num_steps]\n",
    "        y = data[:, i*num_steps+1:(i+1)*num_steps+1]\n",
    "        yield (x, y)"
   ]
  },
  {
   "cell_type": "code",
   "execution_count": 5,
   "metadata": {},
   "outputs": [
    {
     "name": "stdout",
     "output_type": "stream",
     "text": [
      "Loading data from ./from_teacher/data\n",
      "  vocabulary size: 10000\n",
      "(10, 35) (10, 35)\n"
     ]
    }
   ],
   "source": [
    "seqlen    = 35\n",
    "batchsize = 10\n",
    "datapath  = \"./from_teacher/data\"\n",
    "\n",
    "print('Loading data from '+ datapath)\n",
    "raw_data = ptb_raw_data(data_path=datapath)\n",
    "train_data, valid_data, test_data, word_to_id, id_2_word = raw_data\n",
    "vocab_size = len(word_to_id)\n",
    "print('  vocabulary size: {}'.format(vocab_size))\n",
    "\n",
    "data = valid_data\n",
    "\n",
    "emb = models.WordEmbedding(512, 10000)\n",
    "iterator = ptb_iterator(data, batchsize, seqlen)\n",
    "x,y = next(iterator, None)\n",
    "print(x.shape,y.shape)"
   ]
  },
  {
   "cell_type": "markdown",
   "metadata": {},
   "source": [
    "### Prob 5.3"
   ]
  },
  {
   "cell_type": "markdown",
   "metadata": {},
   "source": [
    "#### we are showing some data to illustrate how the density looks like "
   ]
  },
  {
   "cell_type": "code",
   "execution_count": 54,
   "metadata": {},
   "outputs": [],
   "source": [
    "# loading_path = \"./TRANSFORMER_SGD_LR_SCHEDULE_model=TRANSFORMER_optimizer=SGD_LR_SCHEDULE_initial_lr=20_batch_size=64_seq_len=35_hidden_size=512_num_layers=6_dp_keep_prob=0.9_save_best_3\"\n",
    "loading_path = \"./TRANSFORMER_SGD_LR_SCHEDULE_model=TRANSFORMER_optimizer=SGD_LR_SCHEDULE_initial_lr=20_batch_size=64_seq_len=35_hidden_size=512_num_layers=6_dp_keep_prob=0.9_save_best_2\"\n",
    "\n",
    "loading_path += \"/best_params.pt\"\n",
    "\n",
    "net = TRANSFORMER(vocab_size=10000, n_units=512, n_blocks=6, dropout=0.1)\n",
    "net.load_state_dict(torch.load(loading_path))\n",
    "_ = net.to(device)"
   ]
  },
  {
   "cell_type": "code",
   "execution_count": 50,
   "metadata": {},
   "outputs": [
    {
     "name": "stdout",
     "output_type": "stream",
     "text": [
      "numbers has been expanding rapidly in recent years <eos> for a while <unk> <unk> lines and services that <unk> children to dial and <unk> movie or music information earned the service a somewhat <unk> image \n"
     ]
    }
   ],
   "source": [
    "sample_sequence = \"\"\n",
    "inputs, targets = next(iterator, None)\n",
    "sample = inputs[0]\n",
    "for i in sample :\n",
    "    sample_sequence += id_2_word[i] + \" \"\n",
    "print( sample_sequence )\n",
    "vocab_density = np.empty( [ 4 , vocab_size ] )"
   ]
  },
  {
   "cell_type": "code",
   "execution_count": 55,
   "metadata": {},
   "outputs": [],
   "source": [
    "batch = Batch( torch.from_numpy( np.asarray( sample ) ).long().unsqueeze(0).to(device) )\n",
    "# batch = Batch( torch.from_numpy( np.asarray(sent_seq[2]) ).long().unsqueeze(0).to(device) )\n",
    "with torch.no_grad() :\n",
    "    out = net.forward( batch.data, batch.mask ).squeeze(0).detach().cpu()\n",
    "\n",
    "vocab_density[0,:] = np.sort( out[ 1 ,:].numpy() )\n",
    "vocab_density[1,:] = np.sort( out[ 5 ,:].numpy() )\n",
    "vocab_density[2,:] = np.sort( out[ 10,:].numpy() )\n",
    "vocab_density[3,:] = np.sort( out[ 15,:].numpy() )"
   ]
  },
  {
   "cell_type": "code",
   "execution_count": 56,
   "metadata": {},
   "outputs": [
    {
     "data": {
      "image/png": "[encoded data removed]",
      "text/plain": [
       "<Figure size 432x288 with 1 Axes>"
      ]
     },
     "metadata": {
      "needs_background": "light"
     },
     "output_type": "display_data"
    },
    {
     "data": {
      "image/png": "[encoded data removed]",
      "text/plain": [
       "<Figure size 432x288 with 1 Axes>"
      ]
     },
     "metadata": {
      "needs_background": "light"
     },
     "output_type": "display_data"
    },
    {
     "data": {
      "image/png": "[encoded data removed]",
      "text/plain": [
       "<Figure size 432x288 with 1 Axes>"
      ]
     },
     "metadata": {
      "needs_background": "light"
     },
     "output_type": "display_data"
    }
   ],
   "source": [
    "n_sample = vocab_density.shape[0]\n",
    "dens_to_plot = []\n",
    "for i in range( n_sample ):\n",
    "    dens_to_plot += [vocab_density[i,:]]\n",
    "colors = ['g', 'r' , 'y', 'b' ]\n",
    "\n",
    "plt.hist( dens_to_plot , 100, density=True, rwidth=3, width = 0.15, color=colors , alpha=0.5)\n",
    "plt.show()\n",
    "\n",
    "r_ = np.arange( vocab_size )\n",
    "for i in range( n_sample ):\n",
    "    plt.plot( r_ ,  dens_to_plot[i] , 'x' ,  markersize=1, color=colors[i] , alpha=0.75)\n",
    "plt.show()\n",
    "\n",
    "for i in range( n_sample ):\n",
    "    plt.plot( r_[-20:] ,  dens_to_plot[i][-20:] , 'o-' ,  markersize=10, linewidth=2, color=colors[i] , alpha=0.85)\n",
    "plt.show()"
   ]
  },
  {
   "cell_type": "code",
   "execution_count": null,
   "metadata": {},
   "outputs": [],
   "source": [
    "# load an already trained transformer\n",
    "\n",
    "# loading_path = \"./TRANSFORMER_SGD_LR_SCHEDULE_model=TRANSFORMER_optimizer=SGD_LR_SCHEDULE_initial_lr=20_batch_size=64_seq_len=35_hidden_size=512_num_layers=6_dp_keep_prob=0.9_save_best_3\"\n",
    "loading_path = \"./TRANSFORMER_SGD_LR_SCHEDULE_model=TRANSFORMER_optimizer=SGD_LR_SCHEDULE_initial_lr=20_batch_size=64_seq_len=35_hidden_size=512_num_layers=6_dp_keep_prob=0.9_save_best_2\"\n",
    "\n",
    "loading_path += \"/best_params.pt\"\n",
    "\n",
    "net = TRANSFORMER(vocab_size=10000, n_units=512, n_blocks=6, dropout=0.1)\n",
    "net.load_state_dict(torch.load(loading_path))\n",
    "_ = net.to(device)"
   ]
  },
  {
   "cell_type": "markdown",
   "metadata": {},
   "source": [
    "### Prob 5.1"
   ]
  },
  {
   "cell_type": "code",
   "execution_count": 82,
   "metadata": {},
   "outputs": [],
   "source": [
    "# step 1 , instantiate a model.\n",
    "# In order to check if the code workds as intended you can take an non-trained model\n",
    "\n",
    "import importlib\n",
    "import problem5\n",
    "importlib.reload(problem5)\n",
    "import models_coop as modelsc\n",
    "import matplotlib.cm as cm\n",
    "\n",
    "# model_type = 'RNN'\n",
    "# model_type = 'GRU'\n",
    "model_type = 'TRANSFORMER'\n",
    "\n",
    "emb_size     = 512\n",
    "hidden_size  = 512\n",
    "seq_len      = 35\n",
    "batch_size   = 10\n",
    "vocab_size   = 10000\n",
    "num_layers   = 3\n",
    "dp_keep_prob = 0.9\n",
    "num_blocks   = 6\n",
    "\n",
    "if model_type == 'RNN':\n",
    "    net = modelsc.RNN(emb_size=emb_size, hidden_size=hidden_size,\n",
    "                seq_len=seq_len, batch_size=batch_size,\n",
    "                vocab_size=vocab_size, num_layers=num_layers,\n",
    "                dp_keep_prob=dp_keep_prob)\n",
    "elif model_type == 'GRU':\n",
    "    net = modelsc.GRU(emb_size=emb_size, hidden_size=hidden_size,\n",
    "                seq_len=seq_len, batch_size=batch_size,\n",
    "                vocab_size=vocab_size, num_layers=num_layers,\n",
    "                dp_keep_prob=dp_keep_prob)\n",
    "elif model_type == 'TRANSFORMER' :\n",
    "    # net = models.TRANSFORMER(vocab_size=vocab_size, n_units=hidden_size, n_blocks=num_blocks, dropout=1-dp_keep_prob)\n",
    "    loading_path = \"./TRANSFORMER_SGD_LR_SCHEDULE_model=TRANSFORMER_optimizer=SGD_LR_SCHEDULE_initial_lr=20_batch_size=64_seq_len=35_hidden_size=512_num_layers=6_dp_keep_prob=0.9_save_best_2\"\n",
    "    loading_path += \"/best_params.pt\"\n",
    "    net = TRANSFORMER(vocab_size=10000, n_units=512, n_blocks=6, dropout=0.1)\n",
    "    net.load_state_dict(torch.load(loading_path))\n",
    "    net.batch_size = batch_size\n",
    "    net.seq_len    = seq_len\n",
    "    net.vocab_size = vocab_size\n",
    "else :\n",
    "    pass"
   ]
  },
  {
   "cell_type": "code",
   "execution_count": 83,
   "metadata": {},
   "outputs": [
    {
     "name": "stdout",
     "output_type": "stream",
     "text": [
      "Loading data from ./from_teacher/data\n"
     ]
    }
   ],
   "source": [
    "# define data for prob 5.1\n",
    "\n",
    "datapath  = \"./from_teacher/data\"\n",
    "print('Loading data from '+ datapath)\n",
    "raw_data = ptb_raw_data(data_path=datapath)\n",
    "train_data, valid_data, test_data, word_to_id, id_2_word = raw_data\n",
    "vocab_size = len(word_to_id)\n",
    "\n",
    "_ = net.to(device)\n",
    "# _ = net.cpu()\n",
    "\n",
    "avg_error_ = problem5.code_for_51(net,model_type, valid_data)"
   ]
  },
  {
   "cell_type": "code",
   "execution_count": 84,
   "metadata": {},
   "outputs": [],
   "source": [
    "epoch_size = avg_error_.shape[0]\n",
    "avg_error  = np.average(avg_error_, axis=0)"
   ]
  },
  {
   "cell_type": "code",
   "execution_count": 85,
   "metadata": {},
   "outputs": [
    {
     "data": {
      "image/png": "[encoded data removed]",
      "text/plain": [
       "<Figure size 432x288 with 1 Axes>"
      ]
     },
     "metadata": {
      "needs_background": "light"
     },
     "output_type": "display_data"
    }
   ],
   "source": [
    "# plot mean grad for each hidden layer\n",
    "xx     = np.arange( seq_len )\n",
    "plt.plot( xx , avg_error ,'o-', markersize=5, linewidth=2, label=label, color='r' , alpha=0.95)\n",
    "    \n",
    "plt.title(\"Average loss for each time step\")\n",
    "plt.xlabel('time step')\n",
    "plt.ylabel('Average loss')\n",
    "plt.legend()\n",
    "plt.show()"
   ]
  },
  {
   "cell_type": "markdown",
   "metadata": {},
   "source": [
    "### Prob 5.2"
   ]
  },
  {
   "cell_type": "code",
   "execution_count": 37,
   "metadata": {},
   "outputs": [],
   "source": [
    "# step 1 , instantiate a model.\n",
    "# In order to check if the code workds as intended you can take an non-trained model\n",
    "\n",
    "import importlib\n",
    "import problem5\n",
    "importlib.reload(problem5)\n",
    "import models_coop as modelsc\n",
    "import matplotlib.cm as cm\n",
    "\n",
    "# model_type = 'RNN'\n",
    "# model_type = 'GRU'\n",
    "model_type = 'TRANSFORMER'\n",
    "\n",
    "emb_size     = 512\n",
    "hidden_size  = 512\n",
    "seq_len      = 35\n",
    "batch_size   = 10\n",
    "vocab_size   = 10000\n",
    "num_layers   = 3\n",
    "dp_keep_prob = 0.9\n",
    "num_blocks   = 6\n",
    "\n",
    "if model_type == 'RNN':\n",
    "    net = modelsc.RNN(emb_size=emb_size, hidden_size=hidden_size,\n",
    "                seq_len=seq_len, batch_size=batch_size,\n",
    "                vocab_size=vocab_size, num_layers=num_layers,\n",
    "                dp_keep_prob=dp_keep_prob)\n",
    "elif model_type == 'GRU':\n",
    "    net = modelsc.GRU(emb_size=emb_size, hidden_size=hidden_size,\n",
    "                seq_len=seq_len, batch_size=batch_size,\n",
    "                vocab_size=vocab_size, num_layers=num_layers,\n",
    "                dp_keep_prob=dp_keep_prob)\n",
    "elif model_type == 'TRANSFORMER' :\n",
    "    # net = models.TRANSFORMER(vocab_size=vocab_size, n_units=hidden_size, n_blocks=num_blocks, dropout=1-dp_keep_prob)\n",
    "    loading_path = \"./TRANSFORMER_SGD_LR_SCHEDULE_model=TRANSFORMER_optimizer=SGD_LR_SCHEDULE_initial_lr=20_batch_size=64_seq_len=35_hidden_size=512_num_layers=6_dp_keep_prob=0.9_save_best_2\"\n",
    "    loading_path += \"/best_params.pt\"\n",
    "    net = TRANSFORMER(vocab_size=10000, n_units=512, n_blocks=6, dropout=0.1)\n",
    "    net.load_state_dict(torch.load(loading_path))\n",
    "    net.batch_size = batch_size\n",
    "    net.seq_len    = seq_len\n",
    "    net.vocab_size = vocab_size\n",
    "    net.hidden_size= hidden_size\n",
    "    net.num_layers = num_blocks\n",
    "else :\n",
    "    pass"
   ]
  },
  {
   "cell_type": "code",
   "execution_count": 36,
   "metadata": {},
   "outputs": [],
   "source": [
    "# take a batch of data to do prob 5.2\n",
    "# TODO : replace this with a real sample from valid_dataset\n",
    "sq = seq_len  \n",
    "bs = batch_size\n",
    "vs = vocab_size\n",
    "rand_inputs = torch.LongTensor(bs,sq).random_(1, vs-1).numpy()\n",
    "rand_target = torch.LongTensor(bs,sq).random_(1, vs-1).numpy()\n",
    "batch = (rand_inputs,rand_target)\n",
    "\n",
    "#\n",
    "# _ = net.to(device)\n",
    "_ = net.cpu()\n",
    "\n",
    "norm_avg_nablaL = problem5.run_batch_52(net,model_type, batch)\n",
    "# flip left-right so that indice i means time step T-i\n",
    "norm_avg_nablaL = np.fliplr(norm_avg_nablaL)"
   ]
  },
  {
   "cell_type": "code",
   "execution_count": 41,
   "metadata": {},
   "outputs": [
    {
     "data": {
      "image/png": "[encoded data removed]",
      "text/plain": [
       "<Figure size 432x288 with 1 Axes>"
      ]
     },
     "metadata": {
      "needs_background": "light"
     },
     "output_type": "display_data"
    }
   ],
   "source": [
    "# plot mean grad for each hidden layer\n",
    "xx     = np.arange( seq_len )\n",
    "colors = cm.rainbow(np.linspace(0, 1, net.num_layers ))\n",
    "\n",
    "for i in range( net.num_layers ) :\n",
    "    label = \"hidden layer no {d}\".format(d=i)\n",
    "    # exclude first data for the range of the plot to be more relevant \n",
    "    plt.plot( xx[1:] ,  norm_avg_nablaL[i,1:] ,'o-',markersize=5, linewidth=2, label=label, color=colors[i] , alpha=0.55)\n",
    "    # plt.plot( xx ,  norm_avg_nablaL[i,:] ,'o-',markersize=5, linewidth=2, label=label, color=colors[i] , alpha=0.55)\n",
    "    \n",
    "plt.title(\"Gradient of loss wrt the same hidden layer across time steps\")\n",
    "plt.xlabel('time step')\n",
    "plt.ylabel('Gradient of loss for last word prediction')\n",
    "plt.legend()\n",
    "plt.show()"
   ]
  },
  {
   "cell_type": "markdown",
   "metadata": {},
   "source": [
    "# Beginning of exploration code"
   ]
  },
  {
   "cell_type": "code",
   "execution_count": 4,
   "metadata": {},
   "outputs": [
    {
     "data": {
      "text/plain": [
       "torch.Size([1, 6, 6])"
      ]
     },
     "execution_count": 4,
     "metadata": {},
     "output_type": "execute_result"
    }
   ],
   "source": [
    "models.subsequent_mask(6).size()"
   ]
  },
  {
   "cell_type": "code",
   "execution_count": null,
   "metadata": {},
   "outputs": [],
   "source": []
  },
  {
   "cell_type": "code",
   "execution_count": 5,
   "metadata": {},
   "outputs": [],
   "source": [
    "# display 1 plot, loss across epoch, \n",
    "def plot_1d_loss(loss, path_to_save = \"\", filename = \"\", \n",
    "                         net_name=\"\",want_log = False, figsize = (16,10), \n",
    "                         font_size = 16 ):\n",
    "    \n",
    "    plt.rcParams.update({'font.size': font_size})\n",
    "    plt.rcParams[\"figure.figsize\"] = figsize \n",
    "    \n",
    "    nb_epoch =  len( loss[0] )\n",
    "    \n",
    "    x = np.linspace(1, nb_epoch, nb_epoch)\n",
    "    \n",
    "    ya = loss[0]\n",
    "    yb = loss[1]\n",
    "    linea_label = \"loss on the train set\"\n",
    "    lineb_label = \"loss on the valid set\"\n",
    "    \n",
    "    plt.subplot(1,1,1)\n",
    "\n",
    "    plt.axhline(y=75,color=\"black\")\n",
    "\n",
    "    linea, = plt.plot(x, ya, \"o-\", label=linea_label)\n",
    "    linea.set_dashes([2, 2])  # 2pt line, 2pt break\n",
    "\n",
    "    lineb, = plt.plot(x, yb, \"x-\", label=lineb_label)\n",
    "    lineb.set_dashes([2, 2])  # 2pt line, 2pt break\n",
    "\n",
    "    str_title1 = \"Losses\"\n",
    "    plt.title(str_title1)\n",
    "    plt.xlabel('Epoch')\n",
    "    plt.ylabel('Loss')\n",
    "    plt.legend()\n",
    "\n",
    "    # path_to_save = \"./output/\" \n",
    "    # filename     = datetime.datetime.now().strftime(\"%Y%B%d_%p%IH%MM\")\n",
    "    if want_log :\n",
    "        plt.savefig(path_to_save + filename + \".png\")\n",
    "    plt.show()"
   ]
  },
  {
   "cell_type": "code",
   "execution_count": 6,
   "metadata": {},
   "outputs": [
    {
     "name": "stdout",
     "output_type": "stream",
     "text": [
      "3 , 0 , 1 , 2 , 0 , 1 , 2 , 3 , "
     ]
    }
   ],
   "source": [
    "def mongen( n ) :\n",
    "    print( n , end = \" , \" )\n",
    "    for i in range(n) :\n",
    "        yield i\n",
    "    for j in range(n) :\n",
    "        yield j\n",
    "    print( n , end = \" , \" )\n",
    "\n",
    "mg = mongen(3)\n",
    "for x in mg:\n",
    "    print(x , end = \" , \" )"
   ]
  },
  {
   "cell_type": "code",
   "execution_count": 7,
   "metadata": {},
   "outputs": [],
   "source": [
    "class Batch:\n",
    "    \"Data processing for the transformer. This class adds a mask to the data.\"\n",
    "    def __init__(self, x, pad=0):\n",
    "        self.data = x\n",
    "        self.mask = self.make_mask(self.data, pad)\n",
    "\n",
    "    @staticmethod\n",
    "    def make_mask(data, pad):\n",
    "        \"Create a mask to hide future words.\"\n",
    "\n",
    "        def subsequent_mask(size):\n",
    "            \"\"\" helper function for creating the masks. \"\"\"\n",
    "            attn_shape = (1, size, size)\n",
    "            subsequent_mask = np.triu(np.ones(attn_shape), k=1).astype('uint8')\n",
    "            return torch.from_numpy(subsequent_mask) == 0\n",
    "\n",
    "        mask = (data != pad).unsqueeze(-2)\n",
    "        mask = mask & Variable(\n",
    "            subsequent_mask(data.size(-1)).type_as(mask.data))\n",
    "        return mask"
   ]
  },
  {
   "cell_type": "code",
   "execution_count": 8,
   "metadata": {},
   "outputs": [
    {
     "name": "stdout",
     "output_type": "stream",
     "text": [
      "tensor([[ 1,  2,  3,  4],\n",
      "        [ 5,  6,  7,  8],\n",
      "        [ 9, 10, 11, 12],\n",
      "        [13, 14, 15, 16],\n",
      "        [17, 18, 19, 20]])\n",
      "tensor([[[1, 0, 0, 0],\n",
      "         [1, 1, 0, 0],\n",
      "         [1, 1, 1, 0],\n",
      "         [1, 1, 1, 1]],\n",
      "\n",
      "        [[1, 0, 0, 0],\n",
      "         [1, 1, 0, 0],\n",
      "         [1, 1, 1, 0],\n",
      "         [1, 1, 1, 1]],\n",
      "\n",
      "        [[1, 0, 0, 0],\n",
      "         [1, 1, 0, 0],\n",
      "         [1, 1, 1, 0],\n",
      "         [1, 1, 1, 1]],\n",
      "\n",
      "        [[1, 0, 0, 0],\n",
      "         [1, 1, 0, 0],\n",
      "         [1, 1, 1, 0],\n",
      "         [1, 1, 1, 1]],\n",
      "\n",
      "        [[1, 0, 0, 0],\n",
      "         [1, 1, 0, 0],\n",
      "         [1, 1, 1, 0],\n",
      "         [1, 1, 1, 1]]], dtype=torch.uint8)\n"
     ]
    }
   ],
   "source": [
    "n = 5\n",
    "m = 4\n",
    "x  = torch.arange(1,n*m+1).view(n,m)\n",
    "bt = Batch(x)\n",
    "\n",
    "print( bt.data )\n",
    "print( bt.mask )"
   ]
  },
  {
   "cell_type": "code",
   "execution_count": 9,
   "metadata": {},
   "outputs": [],
   "source": [
    "# HELPER FUNCTIONS\n",
    "def _read_words(filename):\n",
    "    with open(filename, \"r\") as f:\n",
    "      return f.read().replace(\"\\n\", \"<eos>\").split()\n",
    "\n",
    "def _build_vocab(filename):\n",
    "    data = _read_words(filename)\n",
    "\n",
    "    counter = collections.Counter(data)\n",
    "    count_pairs = sorted(counter.items(), key=lambda x: (-x[1], x[0]))\n",
    "\n",
    "    words, _ = list(zip(*count_pairs))\n",
    "    word_to_id = dict(zip(words, range(len(words))))\n",
    "    id_to_word = dict((v, k) for k, v in word_to_id.items())\n",
    "\n",
    "    return word_to_id, id_to_word\n",
    "\n",
    "def _file_to_word_ids(filename, word_to_id):\n",
    "    data = _read_words(filename)\n",
    "    return [word_to_id[word] for word in data if word in word_to_id]\n",
    "\n",
    "# Processes the raw data from text files\n",
    "def ptb_raw_data(data_path=None, prefix=\"ptb\"):\n",
    "    train_path = os.path.join(data_path, prefix + \".train.txt\")\n",
    "    valid_path = os.path.join(data_path, prefix + \".valid.txt\")\n",
    "    test_path  = os.path.join(data_path, prefix + \".test.txt\")\n",
    "\n",
    "    word_to_id, id_2_word = _build_vocab(train_path)\n",
    "    train_data = _file_to_word_ids(train_path, word_to_id)\n",
    "    valid_data = _file_to_word_ids(valid_path, word_to_id)\n",
    "    test_data  = _file_to_word_ids(test_path , word_to_id)\n",
    "    return train_data, valid_data, test_data, word_to_id, id_2_word\n",
    "\n",
    "# Yields minibatches of data\n",
    "def ptb_iterator(raw_data, batch_size, num_steps):\n",
    "    raw_data = np.array(raw_data, dtype=np.int32)\n",
    "\n",
    "    data_len = len(raw_data)\n",
    "    batch_len = data_len // batch_size\n",
    "    data = np.zeros([batch_size, batch_len], dtype=np.int32)\n",
    "    for i in range(batch_size):\n",
    "        data[i] = raw_data[batch_len * i:batch_len * (i + 1)]\n",
    "\n",
    "    epoch_size = (batch_len - 1) // num_steps\n",
    "\n",
    "    if epoch_size == 0:\n",
    "        raise ValueError(\"epoch_size == 0, decrease batch_size or num_steps\")\n",
    "\n",
    "    for i in range(epoch_size):\n",
    "        x = data[:, i*num_steps:(i+1)*num_steps]\n",
    "        y = data[:, i*num_steps+1:(i+1)*num_steps+1]\n",
    "        yield (x, y)"
   ]
  },
  {
   "cell_type": "code",
   "execution_count": 10,
   "metadata": {},
   "outputs": [
    {
     "name": "stdout",
     "output_type": "stream",
     "text": [
      "Loading data from ./from_teacher/data\n",
      "  vocabulary size: 10000\n",
      "(10, 20) (10, 20)\n"
     ]
    },
    {
     "data": {
      "text/plain": [
       "'\\nfor step, (x, y) in enumerate(ptb_iterator(data, batchsize, seqlen)):\\n    if step > 0 : \\n        break\\n    print( \"x : \" , x )\\n    # print( \"y : \" , y )\\n    z = emb( torch.from_numpy(x).long() )\\n    print( \"z : \" , z )\\n'"
      ]
     },
     "execution_count": 10,
     "metadata": {},
     "output_type": "execute_result"
    }
   ],
   "source": [
    "seqlen    = 20\n",
    "batchsize = 10\n",
    "datapath  = \"./from_teacher/data\"\n",
    "\n",
    "print('Loading data from '+datapath)\n",
    "raw_data = ptb_raw_data(data_path=datapath)\n",
    "train_data, valid_data, test_data, word_to_id, id_2_word = raw_data\n",
    "vocab_size = len(word_to_id)\n",
    "print('  vocabulary size: {}'.format(vocab_size))\n",
    "\n",
    "data = valid_data\n",
    "\n",
    "for i in range(100):\n",
    "    pass \n",
    "    # print( data[i] , end = \" \")\n",
    "\n",
    "# print( \"\\n\\n\" )\n",
    "\n",
    "for i in range(100):\n",
    "    pass \n",
    "    # print( data[len(data)//3 + i] , end = \" \")\n",
    "\n",
    "# print( )\n",
    "\n",
    "emb = models.WordEmbedding(512, 10000)\n",
    "iterator = ptb_iterator(data, batchsize, seqlen)\n",
    "x,y = next(iterator, None)\n",
    "print(x.shape,y.shape)\n",
    "\"\"\"\n",
    "for step, (x, y) in enumerate(ptb_iterator(data, batchsize, seqlen)):\n",
    "    if step > 0 : \n",
    "        break\n",
    "    print( \"x : \" , x )\n",
    "    # print( \"y : \" , y )\n",
    "    z = emb( torch.from_numpy(x).long() )\n",
    "    print( \"z : \" , z )\n",
    "\"\"\""
   ]
  },
  {
   "cell_type": "code",
   "execution_count": 11,
   "metadata": {},
   "outputs": [
    {
     "name": "stdout",
     "output_type": "stream",
     "text": [
      "torch.Size([5, 1, 5, 5])\n"
     ]
    }
   ],
   "source": [
    "# test le comportement de matmul\n",
    "ma = torch.rand(5,1,5,5)\n",
    "mb = torch.rand(5,1,5,5)\n",
    "mc = torch.matmul(ma,mb)\n",
    "print( mc.shape )"
   ]
  },
  {
   "cell_type": "code",
   "execution_count": 12,
   "metadata": {},
   "outputs": [
    {
     "name": "stdout",
     "output_type": "stream",
     "text": [
      "0.001\n"
     ]
    }
   ],
   "source": [
    "print( 1.0e-3 )"
   ]
  },
  {
   "cell_type": "code",
   "execution_count": 13,
   "metadata": {},
   "outputs": [
    {
     "name": "stdout",
     "output_type": "stream",
     "text": [
      "tensor([[[[ 3.0976e-01, -1.0000e+09, -1.0000e+09, -1.0000e+09, -1.0000e+09],\n",
      "          [ 2.6394e-01,  3.5541e-01, -1.0000e+09, -1.0000e+09, -1.0000e+09],\n",
      "          [ 9.5461e-01,  4.2305e-01,  1.8244e-01, -1.0000e+09, -1.0000e+09],\n",
      "          [ 3.3176e-01,  8.2715e-01,  6.2524e-01,  8.5247e-01, -1.0000e+09],\n",
      "          [ 2.8158e-01,  2.9099e-02,  7.2348e-01,  1.7816e-02,  9.7836e-01]],\n",
      "\n",
      "         [[ 8.8107e-01, -1.0000e+09, -1.0000e+09, -1.0000e+09, -1.0000e+09],\n",
      "          [ 5.1041e-02,  8.2440e-02, -1.0000e+09, -1.0000e+09, -1.0000e+09],\n",
      "          [ 3.7554e-01,  9.0826e-01,  2.2282e-01, -1.0000e+09, -1.0000e+09],\n",
      "          [ 8.6784e-01,  6.8028e-01,  9.9619e-01,  7.4501e-01, -1.0000e+09],\n",
      "          [ 3.2481e-01,  4.3465e-01,  3.2330e-01,  2.1635e-02,  9.4149e-01]]],\n",
      "\n",
      "\n",
      "        [[[ 5.9831e-01, -1.0000e+09, -1.0000e+09, -1.0000e+09, -1.0000e+09],\n",
      "          [ 4.1680e-01,  4.7460e-01, -1.0000e+09, -1.0000e+09, -1.0000e+09],\n",
      "          [ 8.8649e-01,  5.0549e-02,  9.5258e-01, -1.0000e+09, -1.0000e+09],\n",
      "          [ 8.3438e-02,  2.2421e-01,  1.6723e-01,  7.7540e-01, -1.0000e+09],\n",
      "          [ 8.3862e-01,  2.0343e-01,  9.6452e-01,  4.9217e-01,  7.6542e-01]],\n",
      "\n",
      "         [[ 9.3916e-01, -1.0000e+09, -1.0000e+09, -1.0000e+09, -1.0000e+09],\n",
      "          [ 6.8003e-01,  8.0945e-01, -1.0000e+09, -1.0000e+09, -1.0000e+09],\n",
      "          [ 1.3007e-01,  9.1887e-01,  3.8284e-01, -1.0000e+09, -1.0000e+09],\n",
      "          [ 2.9983e-01,  9.7416e-01,  2.7581e-02,  9.7253e-01, -1.0000e+09],\n",
      "          [ 7.6134e-02,  4.8764e-01,  5.8687e-01,  2.4288e-01,  2.2746e-01]]],\n",
      "\n",
      "\n",
      "        [[[ 4.6735e-01, -1.0000e+09, -1.0000e+09, -1.0000e+09, -1.0000e+09],\n",
      "          [ 9.5144e-01,  1.6059e-01, -1.0000e+09, -1.0000e+09, -1.0000e+09],\n",
      "          [ 1.7675e-01,  9.0446e-01,  1.8729e-01, -1.0000e+09, -1.0000e+09],\n",
      "          [ 8.1462e-01,  1.0243e-01,  8.5295e-01,  6.8487e-01, -1.0000e+09],\n",
      "          [ 5.8653e-01,  5.4733e-01,  8.1753e-01,  9.6159e-01,  2.7658e-01]],\n",
      "\n",
      "         [[ 5.4494e-01, -1.0000e+09, -1.0000e+09, -1.0000e+09, -1.0000e+09],\n",
      "          [ 5.2523e-01,  8.1516e-01, -1.0000e+09, -1.0000e+09, -1.0000e+09],\n",
      "          [ 9.0265e-01,  2.0902e-01,  1.5365e-01, -1.0000e+09, -1.0000e+09],\n",
      "          [ 4.3203e-01,  5.4481e-01,  6.6165e-01,  6.4776e-01, -1.0000e+09],\n",
      "          [ 2.8105e-01,  2.8089e-01,  6.8242e-01,  3.5579e-01,  6.4347e-01]]]])\n"
     ]
    }
   ],
   "source": [
    "# test le comportement de mask_fill pour masque de mauvaise dimension\n",
    "ma      =  torch.rand(3,2,5,5)\n",
    "monmask = models.subsequent_mask(5).unsqueeze(0)\n",
    "ma      = ma.masked_fill(1-monmask, -1.0e9)\n",
    "print( ma )"
   ]
  },
  {
   "cell_type": "code",
   "execution_count": 14,
   "metadata": {},
   "outputs": [
    {
     "name": "stdout",
     "output_type": "stream",
     "text": [
      "tensor([[0., 0., 0., 0., 0.],\n",
      "        [0., 0., 0., 0., 0.],\n",
      "        [0., 0., 0., 0., 0.],\n",
      "        [0., 0., 0., 0., 0.],\n",
      "        [0., 0., 0., 0., 0.]])\n",
      "tensor([[ 0.1657, -0.4747, -0.6987,  0.5704, -0.4306],\n",
      "        [ 0.3409,  0.1300,  0.1806,  0.2892,  0.3319],\n",
      "        [ 0.6960,  0.7000,  0.0258,  0.6163,  0.5831],\n",
      "        [ 0.8175,  0.0677, -0.6956,  0.9450, -0.0527],\n",
      "        [-0.2843, -0.0982, -0.7058,  0.6339,  0.5343]])\n"
     ]
    }
   ],
   "source": [
    "mt = torch.zeros(5,5)\n",
    "print(mt)\n",
    "mt.uniform_(-1,1)\n",
    "print(mt)"
   ]
  },
  {
   "cell_type": "code",
   "execution_count": 15,
   "metadata": {},
   "outputs": [
    {
     "name": "stdout",
     "output_type": "stream",
     "text": [
      "tensor([0.5000])\n",
      "tensor([0.5000])\n"
     ]
    }
   ],
   "source": [
    "n = 4\n",
    "print( torch.rsqrt( torch.tensor([4]).float() ) )\n",
    "print( torch.rsqrt( torch.tensor([n]).float() ) )"
   ]
  },
  {
   "cell_type": "code",
   "execution_count": 16,
   "metadata": {},
   "outputs": [
    {
     "name": "stdout",
     "output_type": "stream",
     "text": [
      "salut\n",
      "allo\n"
     ]
    }
   ],
   "source": [
    "class maclass :\n",
    "    def __init__(self):\n",
    "        self.a = 1\n",
    "        def mafonc():\n",
    "            print(\"salut\")\n",
    "        mafonc()\n",
    "        self.mafonc2()\n",
    "        \n",
    "    def mafonc2(self):\n",
    "        print(\"allo\")\n",
    "\n",
    "monobj = maclass()\n",
    "            "
   ]
  },
  {
   "cell_type": "code",
   "execution_count": 17,
   "metadata": {},
   "outputs": [
    {
     "ename": "FileNotFoundError",
     "evalue": "[Errno 2] No such file or directory: './TRANSFORMER_ADAM_model=TRANSFORMER_debug_optimizer=ADAM_initial_lr=20_batch_size=64_seq_len=35_hidden_size=256_num_layers=4_dp_keep_prob=0.9_save_best_0/learning_curves.npy'",
     "output_type": "error",
     "traceback": [
      "\u001b[1;31m---------------------------------------------------------------------------\u001b[0m",
      "\u001b[1;31mFileNotFoundError\u001b[0m                         Traceback (most recent call last)",
      "\u001b[1;32m<ipython-input-17-9a8a01c98982>\u001b[0m in \u001b[0;36m<module>\u001b[1;34m()\u001b[0m\n\u001b[0;32m      1\u001b[0m \u001b[0mlc_path\u001b[0m \u001b[1;33m=\u001b[0m \u001b[1;34m\"./TRANSFORMER_ADAM_model=TRANSFORMER_debug_optimizer=ADAM_initial_lr=20_batch_size=64_seq_len=35_hidden_size=256_num_layers=4_dp_keep_prob=0.9_save_best_0/learning_curves.npy\"\u001b[0m\u001b[1;33m\u001b[0m\u001b[0m\n\u001b[1;32m----> 2\u001b[1;33m \u001b[0mx\u001b[0m \u001b[1;33m=\u001b[0m \u001b[0mnp\u001b[0m\u001b[1;33m.\u001b[0m\u001b[0mload\u001b[0m\u001b[1;33m(\u001b[0m\u001b[0mlc_path\u001b[0m\u001b[1;33m)\u001b[0m\u001b[1;33m[\u001b[0m\u001b[1;33m(\u001b[0m\u001b[1;33m)\u001b[0m\u001b[1;33m]\u001b[0m\u001b[1;33m\u001b[0m\u001b[0m\n\u001b[0m",
      "\u001b[1;32mC:\\Program Files (x86)\\Microsoft Visual Studio\\Shared\\Anaconda3_64\\lib\\site-packages\\numpy\\lib\\npyio.py\u001b[0m in \u001b[0;36mload\u001b[1;34m(file, mmap_mode, allow_pickle, fix_imports, encoding)\u001b[0m\n\u001b[0;32m    370\u001b[0m     \u001b[0mown_fid\u001b[0m \u001b[1;33m=\u001b[0m \u001b[1;32mFalse\u001b[0m\u001b[1;33m\u001b[0m\u001b[0m\n\u001b[0;32m    371\u001b[0m     \u001b[1;32mif\u001b[0m \u001b[0misinstance\u001b[0m\u001b[1;33m(\u001b[0m\u001b[0mfile\u001b[0m\u001b[1;33m,\u001b[0m \u001b[0mbasestring\u001b[0m\u001b[1;33m)\u001b[0m\u001b[1;33m:\u001b[0m\u001b[1;33m\u001b[0m\u001b[0m\n\u001b[1;32m--> 372\u001b[1;33m         \u001b[0mfid\u001b[0m \u001b[1;33m=\u001b[0m \u001b[0mopen\u001b[0m\u001b[1;33m(\u001b[0m\u001b[0mfile\u001b[0m\u001b[1;33m,\u001b[0m \u001b[1;34m\"rb\"\u001b[0m\u001b[1;33m)\u001b[0m\u001b[1;33m\u001b[0m\u001b[0m\n\u001b[0m\u001b[0;32m    373\u001b[0m         \u001b[0mown_fid\u001b[0m \u001b[1;33m=\u001b[0m \u001b[1;32mTrue\u001b[0m\u001b[1;33m\u001b[0m\u001b[0m\n\u001b[0;32m    374\u001b[0m     \u001b[1;32melif\u001b[0m \u001b[0mis_pathlib_path\u001b[0m\u001b[1;33m(\u001b[0m\u001b[0mfile\u001b[0m\u001b[1;33m)\u001b[0m\u001b[1;33m:\u001b[0m\u001b[1;33m\u001b[0m\u001b[0m\n",
      "\u001b[1;31mFileNotFoundError\u001b[0m: [Errno 2] No such file or directory: './TRANSFORMER_ADAM_model=TRANSFORMER_debug_optimizer=ADAM_initial_lr=20_batch_size=64_seq_len=35_hidden_size=256_num_layers=4_dp_keep_prob=0.9_save_best_0/learning_curves.npy'"
     ]
    }
   ],
   "source": [
    "lc_path = \"./TRANSFORMER_ADAM_model=TRANSFORMER_debug_optimizer=ADAM_initial_lr=20_batch_size=64_seq_len=35_hidden_size=256_num_layers=4_dp_keep_prob=0.9_save_best_0/learning_curves.npy\"\n",
    "x = np.load(lc_path)[()]"
   ]
  },
  {
   "cell_type": "code",
   "execution_count": null,
   "metadata": {},
   "outputs": [],
   "source": [
    "lc_path = \"./TRANSFORMER_ADAM_model=TRANSFORMER_debug_optimizer=ADAM_initial_lr=20_batch_size=64_seq_len=35_hidden_size=256_num_layers=4_dp_keep_prob=0.9_save_best_0/learning_curves.npy\"\n",
    "x = np.load(lc_path)[()]\n",
    "\n",
    "train_loss = x['train_losses']\n",
    "valid_loss = x['val_losses']\n",
    "losses     = [train_loss , valid_loss]\n",
    "\n",
    "# plot_1d_loss_and_ppl( losses , ppls )"
   ]
  },
  {
   "cell_type": "code",
   "execution_count": 18,
   "metadata": {},
   "outputs": [
    {
     "name": "stdout",
     "output_type": "stream",
     "text": [
      "tensor([[0.7094, 0.7454],\n",
      "        [0.8853, 0.0439]])\n",
      "tensor([[0.5219, 0.9182],\n",
      "        [0.5699, 0.8392]])\n",
      "tensor([[0.7067, 0.9268],\n",
      "        [0.5482, 0.9492]])\n",
      "tensor([[0.3258, 0.9982],\n",
      "        [0.8037, 0.5902]])\n",
      "tensor([[0.9653, 0.2180],\n",
      "        [0.4798, 0.2420]])\n",
      "tensor([[0.9653, 0.2180],\n",
      "        [0.4798, 0.2420]])\n"
     ]
    }
   ],
   "source": [
    "def mongen( n ):\n",
    "    for i in range(n) :\n",
    "        yield torch.rand(2,2)\n",
    "\n",
    "mg = mongen(5)\n",
    "for x in mg:\n",
    "    print(x)\n",
    "print(x)\n",
    "del x"
   ]
  },
  {
   "cell_type": "code",
   "execution_count": 19,
   "metadata": {},
   "outputs": [
    {
     "name": "stdout",
     "output_type": "stream",
     "text": [
      "[3, 4]\n"
     ]
    }
   ],
   "source": [
    "ll = []\n",
    "ll += [3]\n",
    "ll += [4]\n",
    "print(ll)"
   ]
  },
  {
   "cell_type": "code",
   "execution_count": 20,
   "metadata": {},
   "outputs": [
    {
     "name": "stdout",
     "output_type": "stream",
     "text": [
      "Loading data from ./from_teacher/data\n",
      "  vocabulary size: 10000\n",
      "the  -->  0\n",
      "cat  -->  7915\n",
      "is  -->  13\n",
      "for  -->  11\n",
      "hypercube  -->  None\n"
     ]
    }
   ],
   "source": [
    "seqlen    = 20\n",
    "batchsize = 1\n",
    "datapath  = \"./from_teacher/data\"\n",
    "\n",
    "print('Loading data from '+datapath)\n",
    "raw_data = ptb_raw_data(data_path=datapath)\n",
    "train_data, valid_data, test_data, word_to_id, id_2_word = raw_data\n",
    "vocab_size = len(word_to_id)\n",
    "print('  vocabulary size: {}'.format(vocab_size))\n",
    "\n",
    "sample_words_list = [ \"the\", \"cat\" ,\"is\", \"for\", \"hypercube\" ]\n",
    "for w in sample_words_list:\n",
    "    print( w , \" --> \" , word_to_id.get(w) )"
   ]
  },
  {
   "cell_type": "code",
   "execution_count": 21,
   "metadata": {},
   "outputs": [
    {
     "name": "stdout",
     "output_type": "stream",
     "text": [
      "the\n",
      "<unk>\n",
      "<eos>\n",
      "N\n",
      "of\n",
      "to\n",
      "a\n",
      "in\n",
      "and\n",
      "'s\n",
      "that\n",
      "for\n",
      "$\n",
      "is\n",
      "it\n",
      "said\n",
      "on\n",
      "by\n",
      "at\n",
      "as\n",
      "['the', '<unk>', '<eos>']\n"
     ]
    }
   ],
   "source": [
    "for i in range(20):\n",
    "    print(id_2_word[i])\n",
    "    \n",
    "malist = [ id_2_word[i] for i in [0,1,2] ]\n",
    "print(malist)"
   ]
  },
  {
   "cell_type": "code",
   "execution_count": 22,
   "metadata": {},
   "outputs": [
    {
     "name": "stdout",
     "output_type": "stream",
     "text": [
      "[0]\n"
     ]
    }
   ],
   "source": [
    "x = np.ndarray(1,dtype=int)\n",
    "x[0]=0\n",
    "print(x)"
   ]
  },
  {
   "cell_type": "code",
   "execution_count": 23,
   "metadata": {},
   "outputs": [
    {
     "name": "stdout",
     "output_type": "stream",
     "text": [
      "tensor([2.7183, 7.3891])\n"
     ]
    }
   ],
   "source": [
    "x = torch.tensor([1,2] , dtype = torch.float )\n",
    "print( torch.exp(x) )"
   ]
  },
  {
   "cell_type": "code",
   "execution_count": 24,
   "metadata": {},
   "outputs": [
    {
     "name": "stdout",
     "output_type": "stream",
     "text": [
      "(1, 3)\n",
      "torch.Size([10000])\n",
      "certainty :  tensor([0.0003, 0.0003, 0.0003])\n",
      "top id    :  tensor([5008, 4973, 9420])\n",
      "torch.Size([3])\n",
      "top words :  ['sierra', 'promising', 'sink']\n"
     ]
    }
   ],
   "source": [
    "from models import make_model as TRANSFORMER\n",
    "net = TRANSFORMER(vocab_size=vocab_size, n_units=512, n_blocks=2)\n",
    "with torch.no_grad() :\n",
    "    batch_size = 1 \n",
    "    batch_len  = 3\n",
    "    x = np.zeros([batch_size, batch_len], dtype=np.int32)\n",
    "    x[0,0] = 0\n",
    "    x[0,1] = 7915\n",
    "    x[0,2] = 13\n",
    "    print( x.shape )\n",
    "    batch = Batch(torch.from_numpy(x).long().cpu() )\n",
    "    y = net.forward( batch.data, batch.mask )[0,-1,:]\n",
    "    certainty, top_id = torch.topk(y, 3, dim=-1, largest=True, sorted=True)\n",
    "    print( y.shape )\n",
    "    print( \"certainty : \" , torch.exp(certainty) )\n",
    "    print( \"top id    : \" , top_id )\n",
    "    print( top_id.shape )\n",
    "    print( \"top words : \" , [ id_2_word.get( i.item() ) for i in top_id ] )\n",
    "    "
   ]
  },
  {
   "cell_type": "code",
   "execution_count": 25,
   "metadata": {},
   "outputs": [
    {
     "name": "stdout",
     "output_type": "stream",
     "text": [
      "4\n",
      "5\n",
      "6\n",
      "7\n",
      "8\n",
      "9\n",
      "10\n",
      "11\n",
      "12\n",
      "13\n"
     ]
    }
   ],
   "source": [
    "for i in range(4,14):\n",
    "    print(i)"
   ]
  },
  {
   "cell_type": "code",
   "execution_count": 26,
   "metadata": {},
   "outputs": [],
   "source": [
    "# \n",
    "# loading_path = \"./TRANSFORMER_SGD_LR_SCHEDULE_model=TRANSFORMER_optimizer=SGD_LR_SCHEDULE_initial_lr=20_batch_size=64_seq_len=35_hidden_size=512_num_layers=6_dp_keep_prob=0.9_save_best_3\"\n",
    "loading_path = \"./TRANSFORMER_SGD_LR_SCHEDULE_model=TRANSFORMER_optimizer=SGD_LR_SCHEDULE_initial_lr=20_batch_size=64_seq_len=35_hidden_size=512_num_layers=6_dp_keep_prob=0.9_save_best_2\"\n",
    "\n",
    "loading_path += \"/best_params.pt\"\n",
    "\n",
    "net = TRANSFORMER(vocab_size=10000, n_units=512, n_blocks=6, dropout=0.1)\n",
    "net.load_state_dict(torch.load(loading_path))\n",
    "_ = net.to(device)"
   ]
  },
  {
   "cell_type": "code",
   "execution_count": 27,
   "metadata": {},
   "outputs": [
    {
     "name": "stdout",
     "output_type": "stream",
     "text": [
      "0.9742047190666199\n",
      "[-657585752       2046          0]\n"
     ]
    }
   ],
   "source": [
    "te = torch.FloatTensor(10).uniform_(0,1)\n",
    "print( te[3 ].item() )\n",
    "print( np.empty(3, dtype=int) )"
   ]
  },
  {
   "cell_type": "code",
   "execution_count": null,
   "metadata": {},
   "outputs": [],
   "source": []
  },
  {
   "cell_type": "code",
   "execution_count": 28,
   "metadata": {},
   "outputs": [],
   "source": [
    "class SamplerNode:\n",
    "    # contains sequence of words and the associated probability\n",
    "    def __init__(self, seq, pro):\n",
    "        self.seq = seq\n",
    "        self.pro = pro\n",
    "    \n",
    "    def get_values(self):\n",
    "        return self.seq, self.pro\n",
    "    \n",
    "    # define 'lower than' operator\n",
    "    # comparison is made according to probabilities, not sequences\n",
    "    def __lt__(self, other):\n",
    "        return self.pro > other.pro \n",
    "    \n",
    "    # define equality operator, comparison is made according to sequences\n",
    "    def __eq__(self, other):\n",
    "        return self.seq == other.seq\n",
    "    \n",
    "    def __hash__(self):\n",
    "        return hash(tuple(self.seq))\n",
    "    \n",
    "class BeamSampler:\n",
    "    # greedy search\n",
    "    # 'beam_size' is an int (e.g. 5)\n",
    "    # at each step, search 'beam_size' new child for each current nodes \n",
    "    # then pick the 'beam_size' best amongst them\n",
    "    # repeat until a sequence of desired length has been generated\n",
    "    \n",
    "    def __init__(self, net, length, beam_size, trim_size, outp_size, seed, id_2_word, word_to_id) :\n",
    "        self.net       = net \n",
    "        self.length    = length\n",
    "        self.seed_id   = word_to_id.get(seed)\n",
    "        self.id_2_word = id_2_word\n",
    "        self.word_to_id= word_to_id\n",
    "        self.nodes     = []\n",
    "        \n",
    "        self.beam_size = beam_size\n",
    "        self.trim_size = trim_size\n",
    "        self.outp_size = outp_size\n",
    "        \n",
    "        self.unkn_id = word_to_id['<unk>']\n",
    "        self.stop_id = word_to_id['<eos>']\n",
    "        \n",
    "    def generate_sequence(self):\n",
    "        \n",
    "        with torch.no_grad():\n",
    "            # first step : sample from seed\n",
    "            self.gen_first_nodes_from_seed()\n",
    "\n",
    "            # all subsequent step : sample from nodes\n",
    "            # we have already generated 2 words by now\n",
    "            for i in range(2,self.length):\n",
    "                # self.print_nodes()\n",
    "                self.next_step()\n",
    "                # trim from time to time, but not close to the end\n",
    "                if i%5 == 0 and i < self.length - 5 :\n",
    "                    self.trim_keep_rand()\n",
    "                    self.remove_redundant_nodes()\n",
    "            else : # only keep the best\n",
    "                self.remove_redundant_nodes()\n",
    "                self.trim_keep_best()\n",
    "    \n",
    "    def print_nodes(self):\n",
    "        # pick the best node\n",
    "        for i, node in enumerate(sorted(self.nodes)):\n",
    "            seq, prob = node.get_values()\n",
    "            print( \"node no.\" , i , \" , prob = \" , prob , \" : \\n\" )\n",
    "            print( self.id_seq_2_word_seq(seq) )\n",
    "    \n",
    "    def print_readable_nodes(self):\n",
    "        for i, node in enumerate(sorted(self.nodes)):\n",
    "            seq, prob = node.get_values()\n",
    "            print( \"\\n********************************************\\n\")\n",
    "            print( \"node no.\" , i , \" , prob = \" , prob , \" : \\n\" )\n",
    "            for word in seq :\n",
    "                print( self.id_2_word.get(word) , end= \" \")\n",
    "            print( \"\\n*********************************************\\n\")\n",
    "            \n",
    "    def id_seq_2_word_seq(self, id_seq):\n",
    "        return [ self.id_2_word.get( i ) for i in id_seq ]\n",
    "        \n",
    "    def next_step(self):\n",
    "        # generete next word suggestion for all current nodes\n",
    "        # and pick the best amongst them to form the next layer\n",
    "        # of nodes\n",
    "        bs              = self.beam_size\n",
    "        n_node          = len( self.nodes )\n",
    "        next_nodes      = []\n",
    "        best_next_nodes = []\n",
    "        next_nodes_prob = torch.zeros( n_node , bs , dtype=torch.float)\n",
    "        \n",
    "        for i,n in enumerate(self.nodes):\n",
    "            seq, pro = n.get_values()\n",
    "            next_words, probs = self.sample(seq)\n",
    "            for j,nw in enumerate(next_words):\n",
    "                # reject next word suggestion if it has the '<unk>' label\n",
    "                if nw != self.unkn_id :\n",
    "                    this_node = seq + [nw.item()] \n",
    "                    this_prob = pro + probs[j].item()\n",
    "                else : \n",
    "                    continue\n",
    "                \n",
    "                n = SamplerNode( this_node , this_prob )\n",
    "                best_next_nodes += [n]\n",
    "                \n",
    "        self.nodes = best_next_nodes\n",
    "    \n",
    "    def trim_keep_best(self):\n",
    "        os              = self.outp_size\n",
    "        best_next_nodes = []\n",
    "        n_nodes  = len( self.nodes )\n",
    "        logprob = torch.empty( n_nodes )\n",
    "        for i in range(n_nodes) :\n",
    "            _, logprob[i] = self.nodes[i].get_values()\n",
    "            \n",
    "        values, indices = torch.topk(logprob, os, dim=0)\n",
    "        for i in indices :\n",
    "            best_next_nodes += [ self.nodes[i] ]\n",
    "            \n",
    "        self.nodes = best_next_nodes\n",
    "   \n",
    "    def pick_some_from(self, qt, log_prob_array):\n",
    "        # qt : number of element to pick randomly with repetition\n",
    "        # log_prob_array : array of log probabilities\n",
    "        min_val        = log_prob_array.min()\n",
    "        log_prob_array = (log_prob_array-2*min_val).abs().sqrt()\n",
    "        sqr_sum        = log_prob_array.sum()\n",
    "        log_prob_array = log_prob_array / sqr_sum\n",
    "        cumulative_dis = torch.cumsum(log_prob_array, dim=0).numpy()\n",
    "        \n",
    "        unif_vect = torch.FloatTensor(qt).uniform_(0,1)\n",
    "        rand_ind  = np.empty(qt, dtype=int) \n",
    "        for i in range(qt):\n",
    "            rand_ind[i] = np.searchsorted(cumulative_dis, unif_vect[i].item() , side='left')\n",
    "            \n",
    "        return rand_ind\n",
    "        \n",
    "    def trim_keep_rand(self):\n",
    "        ts              = self.trim_size\n",
    "        best_next_nodes = []\n",
    "        n_nodes  = len( self.nodes )\n",
    "        logprob = torch.empty( n_nodes )\n",
    "        for i in range(n_nodes) :\n",
    "            _, logprob[i] = self.nodes[i].get_values()\n",
    "            \n",
    "        indices = self.pick_some_from(ts, logprob)\n",
    "        for i in indices :\n",
    "            best_next_nodes += [ self.nodes[i] ]\n",
    "            \n",
    "        self.nodes = best_next_nodes\n",
    "        \n",
    "    def remove_redundant_nodes(self):\n",
    "        # remove identical nodes \n",
    "        # usefull if the current set of nodes as been picked\n",
    "        # randomly with repetition from another set of nodes\n",
    "        tmp_set = set()\n",
    "        for n in self.nodes :\n",
    "            tmp_set.add(n)\n",
    "        self.nodes = list( tmp_set )\n",
    "    \n",
    "    def prob_dist_from_seq(self, seq) :\n",
    "        # for transformer :\n",
    "        batch  = Batch( torch.from_numpy( np.asarray( seq ) ).long().unsqueeze(0).to(device) )\n",
    "        y = self.net.forward( batch.data, batch.mask )[0,-1,:].cpu()\n",
    "        return y\n",
    "        # for the other models :\n",
    "        # TODO\n",
    "        \n",
    "    def initialize(self):\n",
    "        self.nodes = []\n",
    "        \n",
    "    def gen_first_nodes_from_seed(self):\n",
    "        self.initialize()\n",
    "        y = self.prob_dist_from_seq( [self.seed_id] )\n",
    "        probs , top_id = torch.topk(y, self.beam_size + 1, dim=-1)\n",
    "        \n",
    "        for i,j in enumerate(top_id) :\n",
    "            if j.item() == self.unkn_id : # exclude '<unk>' label\n",
    "                continue\n",
    "            if len(self.nodes) >= self.beam_size : # \n",
    "                break\n",
    "            n = SamplerNode( [self.seed_id, j.item()] , probs[i] )\n",
    "            self.nodes += [n]\n",
    "            \n",
    "    def sample(self, node):\n",
    "        # return self.beam_size (e.g. 3) suggestions for the next word, \n",
    "        # given node as current sequence\n",
    "        with torch.no_grad() :\n",
    "            y = self.prob_dist_from_seq(node)\n",
    "            probs , top_id = torch.topk(y, self.beam_size, dim=-1)\n",
    "            \n",
    "        # the model return log probabilities, we convert them to real prob by applying exp.\n",
    "        return top_id , probs\n",
    "        "
   ]
  },
  {
   "cell_type": "code",
   "execution_count": 29,
   "metadata": {},
   "outputs": [],
   "source": [
    "class TrueSampler:\n",
    "    # output a random sequence of fixed lenght by sampling each consecutive\n",
    "    # word from true distribution truncated to the most probable suggestions\n",
    "    # trunc_search : nb of most probable suggestions we sample from at each step\n",
    "    \n",
    "    def __init__(self, net, length, trunc_search, seed, id_2_word, word_to_id) :\n",
    "        self.net        = net \n",
    "        self.length     = length\n",
    "        self.id_2_word  = id_2_word\n",
    "        self.word_to_id = word_to_id\n",
    "        \n",
    "        self.sequence   = [ word_to_id[seed] ]\n",
    "        self.real_pro   = 0\n",
    "        self.trun_pro   = 0\n",
    "        \n",
    "        self.unkn_id = word_to_id['<unk>']\n",
    "\n",
    "    def generate_sequence(self):\n",
    "        self.initialize()\n",
    "        with torch.no_grad():\n",
    "            # all step : sample from current seq\n",
    "            for i in range(1,self.length):\n",
    "                self.next_step()\n",
    "    \n",
    "    def print_readable(self):\n",
    "        seq = self.sequence\n",
    "        seq, prob = node.get_values()\n",
    "        print( \"\\n********************************************\\n\")\n",
    "        print( \"current node, prob = \" , prob , \" : \\n\" )\n",
    "        for word in seq :\n",
    "            print( self.id_2_word.get(word) , end= \" \")\n",
    "        print( \"\\n*********************************************\\n\")\n",
    "        \n",
    "    def next_step(self):\n",
    "        # generete next word suggestion for all current nodes\n",
    "        # and pick the best amongst them to form the next layer\n",
    "        # of nodes\n",
    "        bs              = self.beam_size\n",
    "        n_node          = len( self.nodes )\n",
    "        next_nodes      = []\n",
    "        best_next_nodes = []\n",
    "        next_nodes_prob = torch.zeros( n_node , bs , dtype=torch.float)\n",
    "        \n",
    "        for i,n in enumerate(self.nodes):\n",
    "            seq, pro = n.get_values()\n",
    "            next_words, probs = self.sample(seq)\n",
    "            for j,nw in enumerate(next_words):\n",
    "                # reject next word suggestion if it has the '<unk>' label\n",
    "                if nw != self.unkn_id :\n",
    "                    this_node = seq + [nw.item()] \n",
    "                    this_prob = pro + probs[j].item()\n",
    "                else : \n",
    "                    continue\n",
    "                \n",
    "                n = SamplerNode( this_node , this_prob )\n",
    "                best_next_nodes += [n]\n",
    "                \n",
    "        self.nodes = best_next_nodes\n",
    "    \n",
    "    def trim_keep_best(self):\n",
    "        os              = self.outp_size\n",
    "        best_next_nodes = []\n",
    "        n_nodes  = len( self.nodes )\n",
    "        logprob = torch.empty( n_nodes )\n",
    "        for i in range(n_nodes) :\n",
    "            _, logprob[i] = self.nodes[i].get_values()\n",
    "            \n",
    "        values, indices = torch.topk(logprob, os, dim=0)\n",
    "        for i in indices :\n",
    "            best_next_nodes += [ self.nodes[i] ]\n",
    "            \n",
    "        self.nodes = best_next_nodes\n",
    "   \n",
    "    def pick_one_from(self, log_prob_array):\n",
    "        # pick one element randomly from :\n",
    "        # log_prob_array : array of log probabilities\n",
    "        max_val        = log_prob_array.max()\n",
    "        log_prob_array = (log_prob_array-max_val).exp()  # adjust scaling\n",
    "        pro_sum        = log_prob_array.sum()\n",
    "        log_prob_array = log_prob_array / pro_sum\n",
    "        cumulative_dis = torch.cumsum(log_prob_array, dim=0).numpy()\n",
    "        \n",
    "        unif_01  = torch.FloatTensor(1).uniform_(0,1)\n",
    "        rand_ind = np.searchsorted(cumulative_dis, unif_01.item() , side='left')\n",
    "            \n",
    "        return rand_ind, log_prob_array[rand_ind].log()\n",
    "    \n",
    "    def prob_dist_from_seq(self, seq) :\n",
    "        # for transformer :\n",
    "        batch  = Batch( torch.from_numpy( np.asarray( seq ) ).long().unsqueeze(0).to(device) )\n",
    "        y = self.net.forward( batch.data, batch.mask )[0,-1,:].cpu()\n",
    "        return y\n",
    "        # for the other models :\n",
    "        # TODO\n",
    "        \n",
    "    def initialize(self):\n",
    "        self.nodes = []\n",
    "            \n",
    "    def sample(self, node): \n",
    "        y = self.prob_dist_from_seq(node)\n",
    "        probs , top_id = torch.topk(y, self.trunc_search, dim=-1)\n",
    "        rand_ind, trunc_prob = self.pick_one_from( probs )\n",
    "        \n",
    "        # update (true and truncated) probability of the current sequence\n",
    "        self.real_pro += probs[rand_ind]\n",
    "        self.trun_pro += trunc_prob\n",
    "        \n",
    "        return top_id[rand_ind]\n",
    "        "
   ]
  },
  {
   "cell_type": "code",
   "execution_count": 30,
   "metadata": {},
   "outputs": [
    {
     "name": "stdout",
     "output_type": "stream",
     "text": [
      "34.8 µs ± 282 ns per loop (mean ± std. dev. of 7 runs, 10000 loops each)\n"
     ]
    }
   ],
   "source": [
    "def mafonc():\n",
    "    for i in range(100):\n",
    "        outp = i**2\n",
    "        \n",
    "%timeit mafonc()"
   ]
  },
  {
   "cell_type": "code",
   "execution_count": 31,
   "metadata": {},
   "outputs": [
    {
     "name": "stdout",
     "output_type": "stream",
     "text": [
      "hello\n",
      "814 µs ± 0 ns per loop (mean ± std. dev. of 1 run, 1 loop each)\n"
     ]
    }
   ],
   "source": [
    "%%timeit -c -n 1 -r 1\n",
    "print( \"hello\")"
   ]
  },
  {
   "cell_type": "code",
   "execution_count": 32,
   "metadata": {},
   "outputs": [],
   "source": [
    "seed      = '<eos>'\n",
    "beam_size = 3   # number of nodes to explore at each step\n",
    "trim_size = 10  # number of nodes picked at random with repetition during trimming\n",
    "outp_size = 20  # number of nodes to keep at the end\n",
    "length    = 70  # length of the output sentence, measured by the number of token (i.e. words)\n",
    "\n",
    "bsampler = BeamSampler( net.to(device) , length, beam_size, trim_size, outp_size, seed, id_2_word, word_to_id )"
   ]
  },
  {
   "cell_type": "code",
   "execution_count": 207,
   "metadata": {
    "scrolled": true
   },
   "outputs": [
    {
     "name": "stdout",
     "output_type": "stream",
     "text": [
      "\n",
      "********************************************\n",
      "\n",
      "node no. 0  , prob =  tensor(-144.7765)  : \n",
      "\n",
      "<eos> mr. icahn has n't disclosed <eos> mr. icahn is expected to take more of his usx executives on his plan and mr. corry would have to pay his company <eos> but mr. corry has been executive vice president and chief operating officer in his concern in his company <eos> mr. icahn chairman and chief financial officer said he said it has agreed to buy more than $ N million \n",
      "*********************************************\n",
      "\n",
      "\n",
      "********************************************\n",
      "\n",
      "node no. 1  , prob =  tensor(-145.6540)  : \n",
      "\n",
      "<eos> mr. icahn has n't disclosed <eos> mr. icahn is expected to take more of his usx executives on his plan and mr. corry would have to pay his company <eos> but mr. corry has been executive vice president and chief operating officer in his concern in his company <eos> mr. icahn chairman and chief financial officer said he said it would n't resigned as a chief executive vice chairman \n",
      "*********************************************\n",
      "\n",
      "\n",
      "********************************************\n",
      "\n",
      "node no. 2  , prob =  tensor(-145.7209)  : \n",
      "\n",
      "<eos> mr. icahn has n't disclosed <eos> mr. icahn is expected to take more of his usx executives on his plan and mr. corry would have to pay his company <eos> but mr. corry has been executive vice president and chief operating officer in his concern in his company <eos> mr. icahn chairman and chief financial officer said he said it would n't resigned as a chief operating officer of \n",
      "*********************************************\n",
      "\n",
      "\n",
      "********************************************\n",
      "\n",
      "node no. 3  , prob =  tensor(-145.8256)  : \n",
      "\n",
      "<eos> mr. icahn has n't disclosed <eos> mr. icahn is expected to take more of his usx executives on his plan and mr. corry would have to pay his company <eos> but mr. corry has been executive vice president and chief operating officer in his concern in his company <eos> mr. icahn chairman and chief financial officer said he said it is seeking to buy more than $ N million \n",
      "*********************************************\n",
      "\n",
      "\n",
      "********************************************\n",
      "\n",
      "node no. 4  , prob =  tensor(-145.8437)  : \n",
      "\n",
      "<eos> mr. icahn has n't disclosed <eos> mr. icahn is expected to take more of his usx executives on his plan and mr. corry would have to pay his company <eos> but mr. corry has been executive vice president and chief operating officer in his concern in his company <eos> mr. icahn chairman and chief financial officer said he said it has agreed to pay $ N million in charge \n",
      "*********************************************\n",
      "\n",
      "\n",
      "********************************************\n",
      "\n",
      "node no. 5  , prob =  tensor(-145.9123)  : \n",
      "\n",
      "<eos> mr. icahn has n't disclosed <eos> mr. icahn is expected to take more of his usx executives on his plan and mr. corry would have to pay his company <eos> but mr. corry has been executive vice president and chief operating officer in his concern in his company <eos> mr. icahn chairman and chief financial officer said he said it has agreed in his usx executive vice chairman of \n",
      "*********************************************\n",
      "\n",
      "\n",
      "********************************************\n",
      "\n",
      "node no. 6  , prob =  tensor(-145.9155)  : \n",
      "\n",
      "<eos> mr. icahn has n't disclosed <eos> mr. icahn is expected to take more of his usx executives on his plan and mr. corry would have to pay his company <eos> but mr. corry has been executive vice president and chief operating officer in his concern in his company <eos> mr. icahn chairman and chief financial officer said he said it is n't expected to be interested in charge of \n",
      "*********************************************\n",
      "\n",
      "\n",
      "********************************************\n",
      "\n",
      "node no. 7  , prob =  tensor(-145.9572)  : \n",
      "\n",
      "<eos> mr. icahn has n't disclosed <eos> mr. icahn is expected to take more of his usx executives on his plan and mr. corry would have to pay his company <eos> but mr. corry has been executive vice president and chief operating officer in his concern in his company <eos> mr. icahn chairman and chief financial officer said he said it is n't expected to be interested in an interview \n",
      "*********************************************\n",
      "\n",
      "\n",
      "********************************************\n",
      "\n",
      "node no. 8  , prob =  tensor(-146.1218)  : \n",
      "\n",
      "<eos> mr. icahn has n't disclosed <eos> mr. icahn is expected to take more of his usx executives on his plan and mr. corry would have to pay his company <eos> but mr. corry has been executive vice president and chief operating officer in his concern in his company <eos> mr. icahn chairman and chief financial officer said he said it would n't resigned as an executive vice chairman of \n",
      "*********************************************\n",
      "\n",
      "\n",
      "********************************************\n",
      "\n",
      "node no. 9  , prob =  tensor(-146.2365)  : \n",
      "\n",
      "<eos> mr. icahn has n't disclosed <eos> mr. icahn is expected to take more of his usx executives on his plan and mr. corry would have to pay his company <eos> but mr. corry has been executive vice president and chief operating officer in his concern in his company <eos> mr. icahn chairman and chief financial officer said he said it would n't resigned as chairman of chief operating officer \n",
      "*********************************************\n",
      "\n",
      "\n",
      "********************************************\n",
      "\n",
      "node no. 10  , prob =  tensor(-146.4002)  : \n",
      "\n",
      "<eos> mr. icahn has n't disclosed <eos> mr. icahn is expected to take more of his usx executives on his plan and mr. corry would have to pay his company <eos> but mr. corry has been executive vice president and chief operating officer in his concern in his company <eos> mr. icahn chairman and chief financial officer said he said it is n't expected to remain chairman <eos> mr. icahn \n",
      "*********************************************\n",
      "\n",
      "\n",
      "********************************************\n",
      "\n",
      "node no. 11  , prob =  tensor(-146.4177)  : \n",
      "\n",
      "<eos> mr. icahn has n't disclosed <eos> mr. icahn is expected to take more of his usx executives on his plan and mr. corry would have to pay his company <eos> but mr. corry has been executive vice president and chief operating officer in his concern in his company <eos> mr. icahn chairman and chief financial officer said he said it is n't expected to be interested in his usx \n",
      "*********************************************\n",
      "\n",
      "\n",
      "********************************************\n",
      "\n",
      "node no. 12  , prob =  tensor(-146.4945)  : \n",
      "\n",
      "<eos> mr. icahn has n't disclosed <eos> mr. icahn is expected to take more of his usx executives on his plan and mr. corry would have to pay his company <eos> but mr. corry has been executive vice president and chief operating officer in his concern in his company <eos> mr. icahn chairman and chief financial officer said he said it would n't resigned as a vice chairman <eos> mr. \n",
      "*********************************************\n",
      "\n",
      "\n",
      "********************************************\n",
      "\n",
      "node no. 13  , prob =  tensor(-146.5011)  : \n",
      "\n",
      "<eos> mr. icahn has n't disclosed <eos> mr. icahn is expected to take more of his usx executives on his plan and mr. corry would have to pay his company <eos> but mr. corry has been executive vice president and chief operating officer in his concern in his company <eos> mr. icahn chairman and chief financial officer said he said it would n't resigned as chairman of chief executive vice \n",
      "*********************************************\n",
      "\n",
      "\n",
      "********************************************\n",
      "\n",
      "node no. 14  , prob =  tensor(-146.5688)  : \n",
      "\n",
      "<eos> mr. icahn has n't disclosed <eos> mr. icahn is expected to take more of his usx executives on his plan and mr. corry would have to pay his company <eos> but mr. corry has been executive vice president and chief operating officer in his concern in his company <eos> mr. icahn chairman and chief financial officer said he said it is seeking to offer because of his usx 's \n",
      "*********************************************\n",
      "\n",
      "\n",
      "********************************************\n",
      "\n",
      "node no. 15  , prob =  tensor(-146.6198)  : \n",
      "\n",
      "<eos> mr. icahn has n't disclosed <eos> mr. icahn is expected to take more of his usx executives on his plan and mr. corry would have to pay his company <eos> but mr. corry has been executive vice president and chief operating officer in his concern in his company <eos> mr. icahn chairman and chief financial officer said he said it has agreed to pay $ N million in a \n",
      "*********************************************\n",
      "\n",
      "\n",
      "********************************************\n",
      "\n",
      "node no. 16  , prob =  tensor(-146.7224)  : \n",
      "\n",
      "<eos> mr. icahn has n't disclosed <eos> mr. icahn is expected to take more of his usx executives on his plan and mr. corry would have to pay his company <eos> but mr. corry has been executive vice president and chief operating officer in his concern in his company <eos> mr. icahn chairman and chief financial officer said he said it would n't resigned as a vice president <eos> mr. \n",
      "*********************************************\n",
      "\n",
      "\n",
      "********************************************\n",
      "\n",
      "node no. 17  , prob =  tensor(-146.8401)  : \n",
      "\n",
      "<eos> mr. icahn has n't disclosed <eos> mr. icahn is expected to take more of his usx executives on his plan and mr. corry would have to pay his company <eos> but mr. corry has been executive vice president and chief operating officer in his concern in his company <eos> mr. icahn chairman and chief financial officer said he said it is n't expected to be interested in charge on \n",
      "*********************************************\n",
      "\n",
      "\n",
      "********************************************\n",
      "\n",
      "node no. 18  , prob =  tensor(-146.9433)  : \n",
      "\n",
      "<eos> mr. icahn has n't disclosed <eos> mr. icahn is expected to take more of his usx executives on his plan and mr. corry would have to pay his company <eos> but mr. corry has been executive vice president and chief operating officer in his concern in his company <eos> mr. icahn chairman and chief financial officer said he said it would n't disclosed that he would n't comment <eos> \n",
      "*********************************************\n",
      "\n",
      "\n",
      "********************************************\n",
      "\n",
      "node no. 19  , prob =  tensor(-146.9575)  : \n",
      "\n",
      "<eos> mr. icahn has n't disclosed <eos> mr. icahn is expected to take more of his usx executives on his plan and mr. corry would have to pay his company <eos> but mr. corry has been executive vice president and chief operating officer in his concern in his company <eos> mr. icahn chairman and chief financial officer said he said it has n't disclosed that he would be able to \n",
      "*********************************************\n",
      "\n",
      "1h 28min 10s ± 0 ns per loop (mean ± std. dev. of 1 run, 1 loop each)\n"
     ]
    }
   ],
   "source": [
    "%%timeit -c -n 1 -r 1\n",
    "\n",
    "bsampler.generate_sequence()\n",
    "bsampler.print_readable_nodes()"
   ]
  },
  {
   "cell_type": "markdown",
   "metadata": {},
   "source": [
    "### Approximation of a true sampler :"
   ]
  },
  {
   "cell_type": "code",
   "execution_count": 33,
   "metadata": {},
   "outputs": [],
   "source": [
    "class TrueSampler:\n",
    "    # output a random sequence of fixed lenght by sampling each consecutive\n",
    "    # word from true distribution truncated to the most probable suggestions\n",
    "    # trunc_search : nb of most probable suggestions we sample from at each step\n",
    "    \n",
    "    def __init__(self, net, length, trunc_search, seed, id_2_word, word_to_id) :\n",
    "        self.net          = net \n",
    "        self.length       = length\n",
    "        self.id_2_word    = id_2_word\n",
    "        self.word_to_id   = word_to_id\n",
    "        self.trunc_search = trunc_search\n",
    "        self.initialize()\n",
    "        \n",
    "        self.real_pro   = 0\n",
    "        self.trun_pro   = 0\n",
    "        \n",
    "        self.unkn_id = word_to_id['<unk>']\n",
    "\n",
    "    def generate_sequence(self):\n",
    "        with torch.no_grad():\n",
    "            # all step : sample from current seq\n",
    "            for i in range(1,self.length):\n",
    "                self.next_step()\n",
    "    \n",
    "    def print_readable(self):\n",
    "        seq = self.sequence\n",
    "        print( \"\\n********************************************\\n\")\n",
    "        print( \"current node, real prob = \" , self.real_pro.item() , \"truncated prob = \" , self.trun_pro.item() , \" : \\n\" )\n",
    "        for word in seq :\n",
    "            print( self.id_2_word.get(word) , end= \" \")\n",
    "        print( \"\\n*********************************************\\n\")\n",
    "        \n",
    "    def next_step(self):\n",
    "        # generete next word suggestion for current node\n",
    "        seq       = self.sequence\n",
    "        next_word = self.sample(seq)\n",
    "        self.sequence += [next_word]\n",
    "   \n",
    "    def pick_one_from(self, log_prob_array):\n",
    "        # pick one element randomly from :\n",
    "        # log_prob_array : array of log probabilities\n",
    "        max_val        = log_prob_array.max()\n",
    "        log_prob_array = (log_prob_array-max_val).exp()  # adjust scaling\n",
    "        pro_sum        = log_prob_array.sum()\n",
    "        log_prob_array = log_prob_array / pro_sum\n",
    "        cumulative_dis = torch.cumsum(log_prob_array, dim=0).numpy()\n",
    "        \n",
    "        unif_01  = torch.FloatTensor(1).uniform_(0,1)\n",
    "        rand_ind = np.searchsorted(cumulative_dis, unif_01.item() , side='left')\n",
    "            \n",
    "        return rand_ind, log_prob_array[rand_ind].log()\n",
    "    \n",
    "    def prob_dist_from_seq(self, seq) :\n",
    "        # for transformer :\n",
    "        batch  = Batch( torch.from_numpy( np.asarray( seq ) ).long().unsqueeze(0).to(device) )\n",
    "        y = self.net.forward( batch.data, batch.mask )[0,-1,:].cpu()\n",
    "        return y\n",
    "        # for the other models :\n",
    "        # TODO\n",
    "        \n",
    "    def initialize(self):\n",
    "        self.sequence   = [ word_to_id[seed] ]\n",
    "            \n",
    "    def sample(self, node): \n",
    "        # sample, but exclude '<unk>' id\n",
    "        y = self.prob_dist_from_seq(node)\n",
    "        probs , top_id = torch.topk(y, self.trunc_search, dim=-1)\n",
    "        \n",
    "        next_id = self.unkn_id\n",
    "        while next_id == self.unkn_id :\n",
    "            rand_ind, trunc_prob = self.pick_one_from( probs )\n",
    "            next_id = top_id[rand_ind].item()\n",
    "            \n",
    "        # update (true and truncated) probability of the current sequence\n",
    "        self.real_pro += probs[rand_ind]\n",
    "        self.trun_pro += trunc_prob\n",
    "        \n",
    "        return next_id\n",
    "        "
   ]
  },
  {
   "cell_type": "code",
   "execution_count": 20,
   "metadata": {},
   "outputs": [
    {
     "ename": "NameError",
     "evalue": "name 'net' is not defined",
     "output_type": "error",
     "traceback": [
      "\u001b[1;31m---------------------------------------------------------------------------\u001b[0m",
      "\u001b[1;31mNameError\u001b[0m                                 Traceback (most recent call last)",
      "\u001b[1;32m<ipython-input-20-8ec1278e5ecf>\u001b[0m in \u001b[0;36m<module>\u001b[1;34m()\u001b[0m\n\u001b[0;32m      3\u001b[0m \u001b[0mlength\u001b[0m       \u001b[1;33m=\u001b[0m \u001b[1;36m10\u001b[0m  \u001b[1;31m# length of the output sentence, measured by the number of token (i.e. words)\u001b[0m\u001b[1;33m\u001b[0m\u001b[0m\n\u001b[0;32m      4\u001b[0m \u001b[1;33m\u001b[0m\u001b[0m\n\u001b[1;32m----> 5\u001b[1;33m \u001b[0mnet\u001b[0m\u001b[1;33m.\u001b[0m\u001b[0meval\u001b[0m\u001b[1;33m(\u001b[0m\u001b[1;33m)\u001b[0m\u001b[1;33m\u001b[0m\u001b[0m\n\u001b[0m\u001b[0;32m      6\u001b[0m \u001b[0mtsampler\u001b[0m \u001b[1;33m=\u001b[0m \u001b[0mTrueSampler\u001b[0m\u001b[1;33m(\u001b[0m \u001b[0mnet\u001b[0m\u001b[1;33m.\u001b[0m\u001b[0mto\u001b[0m\u001b[1;33m(\u001b[0m\u001b[0mdevice\u001b[0m\u001b[1;33m)\u001b[0m \u001b[1;33m,\u001b[0m \u001b[0mlength\u001b[0m\u001b[1;33m,\u001b[0m \u001b[0mtrunc_search\u001b[0m\u001b[1;33m,\u001b[0m \u001b[0mseed\u001b[0m\u001b[1;33m,\u001b[0m \u001b[0mid_2_word\u001b[0m\u001b[1;33m,\u001b[0m \u001b[0mword_to_id\u001b[0m \u001b[1;33m)\u001b[0m\u001b[1;33m\u001b[0m\u001b[0m\n",
      "\u001b[1;31mNameError\u001b[0m: name 'net' is not defined"
     ]
    }
   ],
   "source": [
    "seed      = '<eos>'\n",
    "trunc_search = 100   # number of nodes to explore at each step\n",
    "length       = 10  # length of the output sentence, measured by the number of token (i.e. words)\n",
    "\n",
    "net.eval()\n",
    "tsampler = TrueSampler( net.to(device) , length, trunc_search, seed, id_2_word, word_to_id )"
   ]
  },
  {
   "cell_type": "code",
   "execution_count": 250,
   "metadata": {},
   "outputs": [
    {
     "name": "stdout",
     "output_type": "stream",
     "text": [
      "\n",
      "********************************************\n",
      "\n",
      "current node, real prob =  -52.9013671875 truncated prob =  -49.030029296875  : \n",
      "\n",
      "<eos> he said he believes of new rules on a \n",
      "*********************************************\n",
      "\n",
      "386 ms ± 0 ns per loop (mean ± std. dev. of 1 run, 1 loop each)\n"
     ]
    }
   ],
   "source": [
    "%%timeit -c -n 1 -r 1\n",
    "tsampler.initialize()\n",
    "tsampler.generate_sequence()\n",
    "tsampler.print_readable()"
   ]
  },
  {
   "cell_type": "code",
   "execution_count": 100,
   "metadata": {},
   "outputs": [
    {
     "data": {
      "text/plain": [
       "-12.661008834838867"
      ]
     },
     "execution_count": 100,
     "metadata": {},
     "output_type": "execute_result"
    }
   ],
   "source": [
    "bsampler.nodes[-1].pro.item() "
   ]
  },
  {
   "cell_type": "code",
   "execution_count": 92,
   "metadata": {},
   "outputs": [
    {
     "name": "stdout",
     "output_type": "stream",
     "text": [
      "[[0], [0, 92, 60, 111], [0, 92, 60, 111, 429, 77, 122]]\n"
     ]
    }
   ],
   "source": [
    "sent_seq = []\n",
    "\n",
    "word_seq_1 = [ 'the' ]\n",
    "word_seq_2 = [ 'the' , 'york' , 'stock' , 'exchange' ]\n",
    "word_seq_3 = [ 'the' , 'york' , 'stock' , 'exchange' , 'composite' , 'trading' , 'yesterday']\n",
    "\n",
    "word_seqs = [ word_seq_1 , word_seq_2, word_seq_3 ]\n",
    "\n",
    "for word_seq in word_seqs:\n",
    "    id_seq   = []\n",
    "    for w in word_seq :\n",
    "        id_seq += [word_to_id.get(w)]\n",
    "    sent_seq += [id_seq]\n",
    "\n",
    "vocab_density = np.empty( [ 4 , vocab_size ] )\n",
    "\n",
    "print( sent_seq )"
   ]
  },
  {
   "cell_type": "code",
   "execution_count": 93,
   "metadata": {},
   "outputs": [],
   "source": [
    "batch = Batch( torch.from_numpy( np.asarray(sent_seq[2]) ).long().unsqueeze(0).to(device) )\n",
    "with torch.no_grad() :\n",
    "    out = net.forward( batch.data, batch.mask ).squeeze(0).detach().cpu()\n",
    "\n",
    "vocab_density[0,:] = np.sort( out[ 1,:].numpy() )\n",
    "vocab_density[1,:] = np.sort( out[ 2,:].numpy() )\n",
    "vocab_density[2,:] = np.sort( out[ 4,:].numpy() )\n",
    "vocab_density[3,:] = np.sort( out[-1,:].numpy() )"
   ]
  },
  {
   "cell_type": "code",
   "execution_count": 97,
   "metadata": {},
   "outputs": [
    {
     "data": {
      "image/png": "[encoded data removed]",
      "text/plain": [
       "<Figure size 432x288 with 1 Axes>"
      ]
     },
     "metadata": {
      "needs_background": "light"
     },
     "output_type": "display_data"
    },
    {
     "data": {
      "image/png": "[encoded data removed]",
      "text/plain": [
       "<Figure size 432x288 with 1 Axes>"
      ]
     },
     "metadata": {
      "needs_background": "light"
     },
     "output_type": "display_data"
    },
    {
     "data": {
      "image/png": "[encoded data removed]",
      "text/plain": [
       "<Figure size 432x288 with 1 Axes>"
      ]
     },
     "metadata": {
      "needs_background": "light"
     },
     "output_type": "display_data"
    }
   ],
   "source": [
    "n_sample = vocab_density.shape[0]\n",
    "dens_to_plot = []\n",
    "for i in range( n_sample ):\n",
    "    dens_to_plot += [vocab_density[i,:]]\n",
    "colors = ['g','r','y', 'b']\n",
    "\n",
    "plt.hist( dens_to_plot , 100, density=True, rwidth=3, width = 0.15, color=colors , alpha=0.5)\n",
    "plt.show()\n",
    "\n",
    "r_ = np.arange( vocab_size )\n",
    "for i in range( n_sample ):\n",
    "    plt.plot( r_ ,  dens_to_plot[i] , 'x' ,  markersize=1, color=colors[i] , alpha=0.75)\n",
    "plt.show()\n",
    "\n",
    "for i in range( n_sample ):\n",
    "    plt.plot( r_[-20:] ,  dens_to_plot[i][-20:] , 'o-' ,  markersize=10, linewidth=2, color=colors[i] , alpha=0.85)\n",
    "plt.show()"
   ]
  },
  {
   "cell_type": "code",
   "execution_count": null,
   "metadata": {},
   "outputs": [],
   "source": []
  },
  {
   "cell_type": "code",
   "execution_count": 32,
   "metadata": {},
   "outputs": [],
   "source": [
    "# display 3 plots, loss for train and valid across steps and ppl across epoch\n",
    "# the steps and epochs before lim_inf are not included in the plots\n",
    "def plot_loss_and_ppl(loss, ppl , lim_inf = [0,0,0], figsize = (16,10), font_size = 16 ):\n",
    "    \n",
    "    plt.rcParams.update({'font.size': font_size})\n",
    "    plt.rcParams[\"figure.figsize\"] = figsize \n",
    "    plt.subplots_adjust(left=None, bottom=None, right=None, top=None, wspace=0.2, hspace=0.4)\n",
    "     \n",
    "    x_loss_train = np.arange( lim_inf[0], len( loss[0] ) )\n",
    "    x_loss_valid = np.arange( lim_inf[1], len( loss[1] ) )\n",
    "    x_ppl        = np.arange( lim_inf[2], len(  ppl[0] ) )\n",
    "    \n",
    "    # x_loss_train = np.linspace(1, len( loss[0] ) )\n",
    "    # x_loss_valid = np.linspace(1, len( loss[1] ) )\n",
    "    # x_ppl        = np.linspace(1, len( ppl[0]  ) )\n",
    "    \n",
    "    print(\"tab\" , len(x_loss_train) ) \n",
    "    \n",
    "    line1_label = \"train loss\"\n",
    "    line2_label = \"valid loss\"\n",
    "    line3a_label = \"train ppl\"\n",
    "    line3b_label = \"valid ppl \"\n",
    "    \n",
    "    # subplot 1\n",
    "    plt.subplot(3,1,1)\n",
    "\n",
    "    line1, = plt.plot(x_loss_train, loss[0][lim_inf[0]:] , \"o-\", label=line1_label)\n",
    "    line1.set_dashes([2, 2])  # 2pt line, 2pt break\n",
    "\n",
    "    str_title1 = \"For the training set\"\n",
    "    plt.title(str_title1)\n",
    "    plt.xlabel('Step')\n",
    "    plt.ylabel('Loss')\n",
    "    plt.legend()\n",
    "  \n",
    "    \n",
    "    # subplot 2\n",
    "    plt.subplot(3,1,2)\n",
    "\n",
    "    line1, = plt.plot(x_loss_valid, loss[1][lim_inf[1]:] , \"o-\", label=line2_label)\n",
    "    line1.set_dashes([2, 2])  # 2pt line, 2pt break\n",
    "\n",
    "    str_title2 = \"For the validation set\"\n",
    "    plt.title(str_title2)\n",
    "    plt.xlabel('Step')\n",
    "    plt.ylabel('Loss')\n",
    "    plt.legend()\n",
    "    \n",
    "    # subplot 3\n",
    "    plt.subplot(3,1,3)\n",
    "    \n",
    "    line3a, = plt.plot( x_ppl , ppl[0][lim_inf[2]:], \"o-\", label=line3a_label)\n",
    "    line3a.set_dashes([2, 2])  # 2pt line, 2pt break\n",
    "\n",
    "    line3b, = plt.plot( x_ppl , ppl[1][lim_inf[2]:], \"x-\", label=line3b_label)\n",
    "    line3b.set_dashes([2, 2])  # 2pt line, 2pt break\n",
    "    \n",
    "    str_title3 = \"Perplexities across epochs\"\n",
    "    plt.title(str_title3)\n",
    "    plt.xlabel('Epoch')\n",
    "    plt.ylabel('PPl')\n",
    "    plt.legend()\n",
    "    \n",
    "    plt.show()"
   ]
  },
  {
   "cell_type": "code",
   "execution_count": 33,
   "metadata": {},
   "outputs": [
    {
     "name": "stdout",
     "output_type": "stream",
     "text": [
      "x contains the following: \n",
      "\n",
      "train_ppls shape :  40\n",
      "val_ppls shape :  40\n",
      "train_losses shape :  16560\n",
      "val_losses shape :  1280\n",
      "tab 16560\n"
     ]
    },
    {
     "data": {
      "image/png": "[encoded data removed]",
      "text/plain": [
       "<Figure size 1152x720 with 3 Axes>"
      ]
     },
     "metadata": {
      "needs_background": "light"
     },
     "output_type": "display_data"
    },
    {
     "name": "stdout",
     "output_type": "stream",
     "text": [
      "tab 9060\n"
     ]
    },
    {
     "data": {
      "image/png": "[encoded data removed]",
      "text/plain": [
       "<Figure size 1152x720 with 3 Axes>"
      ]
     },
     "metadata": {
      "needs_background": "light"
     },
     "output_type": "display_data"
    }
   ],
   "source": [
    "# lc_path = \"./TRANSFORMER_SGD_LR_SCHEDULE_model=TRANSFORMER_optimizer=SGD_LR_SCHEDULE_initial_lr=20_batch_size=64_seq_len=35_hidden_size=512_num_layers=6_dp_keep_prob=0.9_save_best_3\"\n",
    "lc_path = \"./TRANSFORMER_SGD_LR_SCHEDULE_model=TRANSFORMER_optimizer=SGD_LR_SCHEDULE_initial_lr=20_batch_size=64_seq_len=35_hidden_size=512_num_layers=6_dp_keep_prob=0.9_save_best_2\"\n",
    "lc_path += \"/learning_curves.npy\"\n",
    "x = np.load(lc_path)[()]\n",
    "\n",
    "print(\"x contains the following: \\n\")\n",
    "for k,v in x.items():\n",
    "    print(k , \"shape : \" , len(v) )\n",
    "    \n",
    "train_loss = x['train_losses']\n",
    "valid_loss = x['val_losses']\n",
    "train_ppls = x['train_ppls']\n",
    "valid_ppls = x['val_ppls']\n",
    "\n",
    "losses = [train_loss , valid_loss]\n",
    "ppls   = [train_ppls , valid_ppls]\n",
    "\n",
    "plot_loss_and_ppl( losses , ppls )\n",
    "plot_loss_and_ppl( losses , ppls , [7500,600,20])"
   ]
  },
  {
   "cell_type": "code",
   "execution_count": 56,
   "metadata": {},
   "outputs": [
    {
     "name": "stdout",
     "output_type": "stream",
     "text": [
      "tensor([1, 2, 3, 4, 5, 6])\n"
     ]
    }
   ],
   "source": [
    "arr = torch.tensor([[1,2,3],[4,5,6]])\n",
    "print(arr.view(-1))"
   ]
  },
  {
   "cell_type": "code",
   "execution_count": null,
   "metadata": {},
   "outputs": [],
   "source": []
  },
  {
   "cell_type": "code",
   "execution_count": 408,
   "metadata": {},
   "outputs": [],
   "source": [
    "import models_coop as modelsc\n",
    "\n",
    "model_type = 'RNN'\n",
    "# model_type = 'GRU'\n",
    "\n",
    "emb_size     = 512\n",
    "hidden_size  = 512\n",
    "seq_len      = 35\n",
    "batch_size   = 10\n",
    "vocab_size   = 10000\n",
    "num_layers   = 3\n",
    "dp_keep_prob = 0.9\n",
    "\n",
    "if model_type == 'RNN':\n",
    "    net = modelsc.RNN(emb_size=emb_size, hidden_size=hidden_size,\n",
    "                seq_len=seq_len, batch_size=batch_size,\n",
    "                vocab_size=vocab_size, num_layers=num_layers,\n",
    "                dp_keep_prob=dp_keep_prob)\n",
    "elif model_type == 'GRU':\n",
    "    net = modelsc.GRU(emb_size=emb_size, hidden_size=hidden_size,\n",
    "                seq_len=seq_len, batch_size=batch_size,\n",
    "                vocab_size=vocab_size, num_layers=num_layers,\n",
    "                dp_keep_prob=dp_keep_prob)\n"
   ]
  },
  {
   "cell_type": "code",
   "execution_count": 438,
   "metadata": {},
   "outputs": [],
   "source": [
    "for grad_handle in list_grad_handle:\n",
    "    grad_handle.remove()\n",
    "grads= {}"
   ]
  },
  {
   "cell_type": "code",
   "execution_count": 439,
   "metadata": {},
   "outputs": [],
   "source": [
    "grads = {}\n",
    "def save_grad(name,signature):\n",
    "    def hook(module, grad_input, grad_output):\n",
    "        age = 1\n",
    "        while (name,signature,age) in grads: # already there, add one more time step\n",
    "            age += 1\n",
    "        else :\n",
    "            grads[name,signature,age] = [grad_input, grad_output]\n",
    "    return hook\n",
    "\n",
    "list_grad_handle = []\n",
    "for i in range(num_layers) :\n",
    "    tmp          = net.layers[i]._modules['0'] # i^th hidden layer\n",
    "    grad_handle  = tmp.register_backward_hook( save_grad('Loss grad',i) )\n",
    "    list_grad_handle += [grad_handle]"
   ]
  },
  {
   "cell_type": "code",
   "execution_count": 440,
   "metadata": {},
   "outputs": [],
   "source": [
    "rand_input  = torch.LongTensor(35,10).random_(0, 100)\n",
    "hidden      = net.init_hidden()\n",
    "\n",
    "loss_fn         = nn.CrossEntropyLoss()\n",
    "rand_targ__     = torch.LongTensor(10,35).random_(0, 100)\n",
    "rand_lw_target  = rand_targ__.transpose(0, 1).contiguous().cpu()[-1,:]\n",
    "# print( rand_lw_target.shape )\n",
    "tt              = torch.squeeze(rand_lw_target.view(-1, 1 * 10))\n",
    "    \n",
    "# hidden = repackage_hidden(hidden)\n",
    "rand_output,_   = net.forward(rand_input,hidden)\n",
    "# print(rand_output.shape)\n",
    "rand_lw_output  = rand_output[-1,:,:]\n",
    "# print(rand_lw_output.shape)\n",
    "loss        = loss_fn(rand_lw_output.contiguous().view(-1, 10000), tt)\n",
    "loss.backward()"
   ]
  },
  {
   "cell_type": "code",
   "execution_count": 391,
   "metadata": {},
   "outputs": [
    {
     "name": "stdout",
     "output_type": "stream",
     "text": [
      "35\n",
      "torch.Size([1, 10000])\n",
      "torch.Size([1, 10000])\n"
     ]
    }
   ],
   "source": [
    "print( len( rand_output ) )   # output + hidden\n",
    "print( rand_output[0].shape )\n",
    "print( rand_output[1].shape )"
   ]
  },
  {
   "cell_type": "code",
   "execution_count": 354,
   "metadata": {},
   "outputs": [],
   "source": [
    "# RNN hidden state\n",
    "#   layers ; num_layers\n",
    "#     first_hidden_layer\n",
    "#     hidden_layer\n",
    "# GRU hidden state\n",
    "#   layers ; num_layers\n",
    "#     hidden_layer\n",
    "#     first_hidden_layer"
   ]
  },
  {
   "cell_type": "code",
   "execution_count": 441,
   "metadata": {},
   "outputs": [
    {
     "name": "stdout",
     "output_type": "stream",
     "text": [
      "3382  :  <function save_grad.<locals>.hook at 0x000000000ECEC6A8>\n",
      "\n",
      "\n",
      "*******containt of grad dict*******\n",
      "\n",
      "\n",
      "('Loss grad', 2, 1)\n",
      "grad_input :  3\n",
      "torch.Size([512])\n",
      "torch.Size([10, 1024])\n",
      "torch.Size([1024, 512])\n",
      "grad_output   1\n",
      "torch.Size([10, 512])\n",
      "('Loss grad', 1, 1)\n",
      "grad_input :  3\n",
      "torch.Size([512])\n",
      "torch.Size([10, 1024])\n",
      "torch.Size([1024, 512])\n",
      "grad_output   1\n",
      "torch.Size([10, 512])\n",
      "('Loss grad', 0, 1)\n",
      "grad_input :  3\n",
      "torch.Size([512])\n",
      "torch.Size([10, 1024])\n",
      "torch.Size([1024, 512])\n",
      "grad_output   1\n",
      "torch.Size([10, 512])\n",
      "('Loss grad', 2, 2)\n",
      "grad_input :  3\n",
      "torch.Size([512])\n",
      "torch.Size([10, 1024])\n",
      "torch.Size([1024, 512])\n",
      "grad_output   1\n",
      "torch.Size([10, 512])\n",
      "('Loss grad', 1, 2)\n",
      "grad_input :  3\n",
      "torch.Size([512])\n",
      "torch.Size([10, 1024])\n",
      "torch.Size([1024, 512])\n",
      "grad_output   1\n",
      "torch.Size([10, 512])\n",
      "('Loss grad', 0, 2)\n",
      "grad_input :  3\n",
      "torch.Size([512])\n",
      "torch.Size([10, 1024])\n",
      "torch.Size([1024, 512])\n",
      "grad_output   1\n",
      "torch.Size([10, 512])\n",
      "('Loss grad', 2, 3)\n",
      "grad_input :  3\n",
      "torch.Size([512])\n",
      "torch.Size([10, 1024])\n",
      "torch.Size([1024, 512])\n",
      "grad_output   1\n",
      "torch.Size([10, 512])\n",
      "('Loss grad', 1, 3)\n",
      "grad_input :  3\n",
      "torch.Size([512])\n",
      "torch.Size([10, 1024])\n",
      "torch.Size([1024, 512])\n",
      "grad_output   1\n",
      "torch.Size([10, 512])\n",
      "('Loss grad', 0, 3)\n",
      "grad_input :  3\n",
      "torch.Size([512])\n",
      "torch.Size([10, 1024])\n",
      "torch.Size([1024, 512])\n",
      "grad_output   1\n",
      "torch.Size([10, 512])\n",
      "('Loss grad', 2, 4)\n",
      "grad_input :  3\n",
      "torch.Size([512])\n",
      "torch.Size([10, 1024])\n",
      "torch.Size([1024, 512])\n",
      "grad_output   1\n",
      "torch.Size([10, 512])\n",
      "('Loss grad', 1, 4)\n",
      "grad_input :  3\n",
      "torch.Size([512])\n",
      "torch.Size([10, 1024])\n",
      "torch.Size([1024, 512])\n",
      "grad_output   1\n",
      "torch.Size([10, 512])\n",
      "('Loss grad', 0, 4)\n",
      "grad_input :  3\n",
      "torch.Size([512])\n",
      "torch.Size([10, 1024])\n",
      "torch.Size([1024, 512])\n",
      "grad_output   1\n",
      "torch.Size([10, 512])\n",
      "('Loss grad', 2, 5)\n",
      "grad_input :  3\n",
      "torch.Size([512])\n",
      "torch.Size([10, 1024])\n",
      "torch.Size([1024, 512])\n",
      "grad_output   1\n",
      "torch.Size([10, 512])\n",
      "('Loss grad', 1, 5)\n",
      "grad_input :  3\n",
      "torch.Size([512])\n",
      "torch.Size([10, 1024])\n",
      "torch.Size([1024, 512])\n",
      "grad_output   1\n",
      "torch.Size([10, 512])\n",
      "('Loss grad', 0, 5)\n",
      "grad_input :  3\n",
      "torch.Size([512])\n",
      "torch.Size([10, 1024])\n",
      "torch.Size([1024, 512])\n",
      "grad_output   1\n",
      "torch.Size([10, 512])\n",
      "('Loss grad', 2, 6)\n",
      "grad_input :  3\n",
      "torch.Size([512])\n",
      "torch.Size([10, 1024])\n",
      "torch.Size([1024, 512])\n",
      "grad_output   1\n",
      "torch.Size([10, 512])\n",
      "('Loss grad', 1, 6)\n",
      "grad_input :  3\n",
      "torch.Size([512])\n",
      "torch.Size([10, 1024])\n",
      "torch.Size([1024, 512])\n",
      "grad_output   1\n",
      "torch.Size([10, 512])\n",
      "('Loss grad', 0, 6)\n",
      "grad_input :  3\n",
      "torch.Size([512])\n",
      "torch.Size([10, 1024])\n",
      "torch.Size([1024, 512])\n",
      "grad_output   1\n",
      "torch.Size([10, 512])\n",
      "('Loss grad', 2, 7)\n",
      "grad_input :  3\n",
      "torch.Size([512])\n",
      "torch.Size([10, 1024])\n",
      "torch.Size([1024, 512])\n",
      "grad_output   1\n",
      "torch.Size([10, 512])\n",
      "('Loss grad', 1, 7)\n",
      "grad_input :  3\n",
      "torch.Size([512])\n",
      "torch.Size([10, 1024])\n",
      "torch.Size([1024, 512])\n",
      "grad_output   1\n",
      "torch.Size([10, 512])\n",
      "('Loss grad', 0, 7)\n",
      "grad_input :  3\n",
      "torch.Size([512])\n",
      "torch.Size([10, 1024])\n",
      "torch.Size([1024, 512])\n",
      "grad_output   1\n",
      "torch.Size([10, 512])\n",
      "('Loss grad', 2, 8)\n",
      "grad_input :  3\n",
      "torch.Size([512])\n",
      "torch.Size([10, 1024])\n",
      "torch.Size([1024, 512])\n",
      "grad_output   1\n",
      "torch.Size([10, 512])\n",
      "('Loss grad', 1, 8)\n",
      "grad_input :  3\n",
      "torch.Size([512])\n",
      "torch.Size([10, 1024])\n",
      "torch.Size([1024, 512])\n",
      "grad_output   1\n",
      "torch.Size([10, 512])\n",
      "('Loss grad', 0, 8)\n",
      "grad_input :  3\n",
      "torch.Size([512])\n",
      "torch.Size([10, 1024])\n",
      "torch.Size([1024, 512])\n",
      "grad_output   1\n",
      "torch.Size([10, 512])\n",
      "('Loss grad', 2, 9)\n",
      "grad_input :  3\n",
      "torch.Size([512])\n",
      "torch.Size([10, 1024])\n",
      "torch.Size([1024, 512])\n",
      "grad_output   1\n",
      "torch.Size([10, 512])\n",
      "('Loss grad', 1, 9)\n",
      "grad_input :  3\n",
      "torch.Size([512])\n",
      "torch.Size([10, 1024])\n",
      "torch.Size([1024, 512])\n",
      "grad_output   1\n",
      "torch.Size([10, 512])\n",
      "('Loss grad', 0, 9)\n",
      "grad_input :  3\n",
      "torch.Size([512])\n",
      "torch.Size([10, 1024])\n",
      "torch.Size([1024, 512])\n",
      "grad_output   1\n",
      "torch.Size([10, 512])\n",
      "('Loss grad', 2, 10)\n",
      "grad_input :  3\n",
      "torch.Size([512])\n",
      "torch.Size([10, 1024])\n",
      "torch.Size([1024, 512])\n",
      "grad_output   1\n",
      "torch.Size([10, 512])\n",
      "('Loss grad', 1, 10)\n",
      "grad_input :  3\n",
      "torch.Size([512])\n",
      "torch.Size([10, 1024])\n",
      "torch.Size([1024, 512])\n",
      "grad_output   1\n",
      "torch.Size([10, 512])\n",
      "('Loss grad', 0, 10)\n",
      "grad_input :  3\n",
      "torch.Size([512])\n",
      "torch.Size([10, 1024])\n",
      "torch.Size([1024, 512])\n",
      "grad_output   1\n",
      "torch.Size([10, 512])\n",
      "('Loss grad', 2, 11)\n",
      "grad_input :  3\n",
      "torch.Size([512])\n",
      "torch.Size([10, 1024])\n",
      "torch.Size([1024, 512])\n",
      "grad_output   1\n",
      "torch.Size([10, 512])\n",
      "('Loss grad', 1, 11)\n",
      "grad_input :  3\n",
      "torch.Size([512])\n",
      "torch.Size([10, 1024])\n",
      "torch.Size([1024, 512])\n",
      "grad_output   1\n",
      "torch.Size([10, 512])\n",
      "('Loss grad', 0, 11)\n",
      "grad_input :  3\n",
      "torch.Size([512])\n",
      "torch.Size([10, 1024])\n",
      "torch.Size([1024, 512])\n",
      "grad_output   1\n",
      "torch.Size([10, 512])\n",
      "('Loss grad', 2, 12)\n",
      "grad_input :  3\n",
      "torch.Size([512])\n",
      "torch.Size([10, 1024])\n",
      "torch.Size([1024, 512])\n",
      "grad_output   1\n",
      "torch.Size([10, 512])\n",
      "('Loss grad', 1, 12)\n",
      "grad_input :  3\n",
      "torch.Size([512])\n",
      "torch.Size([10, 1024])\n",
      "torch.Size([1024, 512])\n",
      "grad_output   1\n",
      "torch.Size([10, 512])\n",
      "('Loss grad', 0, 12)\n",
      "grad_input :  3\n",
      "torch.Size([512])\n",
      "torch.Size([10, 1024])\n",
      "torch.Size([1024, 512])\n",
      "grad_output   1\n",
      "torch.Size([10, 512])\n",
      "('Loss grad', 2, 13)\n",
      "grad_input :  3\n",
      "torch.Size([512])\n",
      "torch.Size([10, 1024])\n",
      "torch.Size([1024, 512])\n",
      "grad_output   1\n",
      "torch.Size([10, 512])\n",
      "('Loss grad', 1, 13)\n",
      "grad_input :  3\n",
      "torch.Size([512])\n",
      "torch.Size([10, 1024])\n",
      "torch.Size([1024, 512])\n",
      "grad_output   1\n",
      "torch.Size([10, 512])\n",
      "('Loss grad', 0, 13)\n",
      "grad_input :  3\n",
      "torch.Size([512])\n",
      "torch.Size([10, 1024])\n",
      "torch.Size([1024, 512])\n",
      "grad_output   1\n",
      "torch.Size([10, 512])\n",
      "('Loss grad', 2, 14)\n",
      "grad_input :  3\n",
      "torch.Size([512])\n",
      "torch.Size([10, 1024])\n",
      "torch.Size([1024, 512])\n",
      "grad_output   1\n",
      "torch.Size([10, 512])\n",
      "('Loss grad', 1, 14)\n",
      "grad_input :  3\n",
      "torch.Size([512])\n",
      "torch.Size([10, 1024])\n",
      "torch.Size([1024, 512])\n",
      "grad_output   1\n",
      "torch.Size([10, 512])\n",
      "('Loss grad', 0, 14)\n",
      "grad_input :  3\n",
      "torch.Size([512])\n",
      "torch.Size([10, 1024])\n",
      "torch.Size([1024, 512])\n",
      "grad_output   1\n",
      "torch.Size([10, 512])\n",
      "('Loss grad', 2, 15)\n",
      "grad_input :  3\n",
      "torch.Size([512])\n",
      "torch.Size([10, 1024])\n",
      "torch.Size([1024, 512])\n",
      "grad_output   1\n",
      "torch.Size([10, 512])\n",
      "('Loss grad', 1, 15)\n",
      "grad_input :  3\n",
      "torch.Size([512])\n",
      "torch.Size([10, 1024])\n",
      "torch.Size([1024, 512])\n",
      "grad_output   1\n",
      "torch.Size([10, 512])\n",
      "('Loss grad', 0, 15)\n",
      "grad_input :  3\n",
      "torch.Size([512])\n",
      "torch.Size([10, 1024])\n",
      "torch.Size([1024, 512])\n",
      "grad_output   1\n",
      "torch.Size([10, 512])\n",
      "('Loss grad', 2, 16)\n",
      "grad_input :  3\n",
      "torch.Size([512])\n",
      "torch.Size([10, 1024])\n",
      "torch.Size([1024, 512])\n",
      "grad_output   1\n",
      "torch.Size([10, 512])\n",
      "('Loss grad', 1, 16)\n",
      "grad_input :  3\n",
      "torch.Size([512])\n",
      "torch.Size([10, 1024])\n",
      "torch.Size([1024, 512])\n",
      "grad_output   1\n",
      "torch.Size([10, 512])\n",
      "('Loss grad', 0, 16)\n",
      "grad_input :  3\n",
      "torch.Size([512])\n",
      "torch.Size([10, 1024])\n",
      "torch.Size([1024, 512])\n",
      "grad_output   1\n",
      "torch.Size([10, 512])\n",
      "('Loss grad', 2, 17)\n",
      "grad_input :  3\n",
      "torch.Size([512])\n",
      "torch.Size([10, 1024])\n",
      "torch.Size([1024, 512])\n",
      "grad_output   1\n",
      "torch.Size([10, 512])\n",
      "('Loss grad', 1, 17)\n",
      "grad_input :  3\n",
      "torch.Size([512])\n",
      "torch.Size([10, 1024])\n",
      "torch.Size([1024, 512])\n",
      "grad_output   1\n",
      "torch.Size([10, 512])\n",
      "('Loss grad', 0, 17)\n",
      "grad_input :  3\n",
      "torch.Size([512])\n",
      "torch.Size([10, 1024])\n",
      "torch.Size([1024, 512])\n",
      "grad_output   1\n",
      "torch.Size([10, 512])\n",
      "('Loss grad', 2, 18)\n",
      "grad_input :  3\n",
      "torch.Size([512])\n",
      "torch.Size([10, 1024])\n",
      "torch.Size([1024, 512])\n",
      "grad_output   1\n",
      "torch.Size([10, 512])\n",
      "('Loss grad', 1, 18)\n",
      "grad_input :  3\n",
      "torch.Size([512])\n",
      "torch.Size([10, 1024])\n",
      "torch.Size([1024, 512])\n",
      "grad_output   1\n",
      "torch.Size([10, 512])\n",
      "('Loss grad', 0, 18)\n",
      "grad_input :  3\n",
      "torch.Size([512])\n",
      "torch.Size([10, 1024])\n",
      "torch.Size([1024, 512])\n",
      "grad_output   1\n",
      "torch.Size([10, 512])\n",
      "('Loss grad', 2, 19)\n",
      "grad_input :  3\n",
      "torch.Size([512])\n",
      "torch.Size([10, 1024])\n",
      "torch.Size([1024, 512])\n",
      "grad_output   1\n",
      "torch.Size([10, 512])\n",
      "('Loss grad', 1, 19)\n",
      "grad_input :  3\n",
      "torch.Size([512])\n",
      "torch.Size([10, 1024])\n",
      "torch.Size([1024, 512])\n",
      "grad_output   1\n",
      "torch.Size([10, 512])\n",
      "('Loss grad', 0, 19)\n",
      "grad_input :  3\n",
      "torch.Size([512])\n",
      "torch.Size([10, 1024])\n",
      "torch.Size([1024, 512])\n",
      "grad_output   1\n",
      "torch.Size([10, 512])\n",
      "('Loss grad', 2, 20)\n",
      "grad_input :  3\n",
      "torch.Size([512])\n",
      "torch.Size([10, 1024])\n",
      "torch.Size([1024, 512])\n",
      "grad_output   1\n",
      "torch.Size([10, 512])\n",
      "('Loss grad', 1, 20)\n",
      "grad_input :  3\n",
      "torch.Size([512])\n",
      "torch.Size([10, 1024])\n",
      "torch.Size([1024, 512])\n",
      "grad_output   1\n",
      "torch.Size([10, 512])\n",
      "('Loss grad', 0, 20)\n",
      "grad_input :  3\n",
      "torch.Size([512])\n",
      "torch.Size([10, 1024])\n",
      "torch.Size([1024, 512])\n",
      "grad_output   1\n",
      "torch.Size([10, 512])\n",
      "('Loss grad', 2, 21)\n",
      "grad_input :  3\n",
      "torch.Size([512])\n",
      "torch.Size([10, 1024])\n",
      "torch.Size([1024, 512])\n",
      "grad_output   1\n",
      "torch.Size([10, 512])\n",
      "('Loss grad', 1, 21)\n",
      "grad_input :  3\n",
      "torch.Size([512])\n",
      "torch.Size([10, 1024])\n",
      "torch.Size([1024, 512])\n",
      "grad_output   1\n",
      "torch.Size([10, 512])\n",
      "('Loss grad', 0, 21)\n",
      "grad_input :  3\n",
      "torch.Size([512])\n",
      "torch.Size([10, 1024])\n",
      "torch.Size([1024, 512])\n",
      "grad_output   1\n",
      "torch.Size([10, 512])\n",
      "('Loss grad', 2, 22)\n",
      "grad_input :  3\n",
      "torch.Size([512])\n",
      "torch.Size([10, 1024])\n",
      "torch.Size([1024, 512])\n",
      "grad_output   1\n",
      "torch.Size([10, 512])\n",
      "('Loss grad', 1, 22)\n",
      "grad_input :  3\n",
      "torch.Size([512])\n",
      "torch.Size([10, 1024])\n",
      "torch.Size([1024, 512])\n",
      "grad_output   1\n",
      "torch.Size([10, 512])\n",
      "('Loss grad', 0, 22)\n",
      "grad_input :  3\n",
      "torch.Size([512])\n",
      "torch.Size([10, 1024])\n",
      "torch.Size([1024, 512])\n",
      "grad_output   1\n",
      "torch.Size([10, 512])\n",
      "('Loss grad', 2, 23)\n",
      "grad_input :  3\n",
      "torch.Size([512])\n",
      "torch.Size([10, 1024])\n",
      "torch.Size([1024, 512])\n",
      "grad_output   1\n",
      "torch.Size([10, 512])\n",
      "('Loss grad', 1, 23)\n",
      "grad_input :  3\n",
      "torch.Size([512])\n",
      "torch.Size([10, 1024])\n",
      "torch.Size([1024, 512])\n",
      "grad_output   1\n",
      "torch.Size([10, 512])\n",
      "('Loss grad', 0, 23)\n",
      "grad_input :  3\n",
      "torch.Size([512])\n",
      "torch.Size([10, 1024])\n",
      "torch.Size([1024, 512])\n",
      "grad_output   1\n",
      "torch.Size([10, 512])\n",
      "('Loss grad', 2, 24)\n",
      "grad_input :  3\n",
      "torch.Size([512])\n",
      "torch.Size([10, 1024])\n",
      "torch.Size([1024, 512])\n",
      "grad_output   1\n",
      "torch.Size([10, 512])\n",
      "('Loss grad', 1, 24)\n",
      "grad_input :  3\n",
      "torch.Size([512])\n",
      "torch.Size([10, 1024])\n",
      "torch.Size([1024, 512])\n",
      "grad_output   1\n",
      "torch.Size([10, 512])\n",
      "('Loss grad', 0, 24)\n",
      "grad_input :  3\n",
      "torch.Size([512])\n",
      "torch.Size([10, 1024])\n",
      "torch.Size([1024, 512])\n",
      "grad_output   1\n",
      "torch.Size([10, 512])\n",
      "('Loss grad', 2, 25)\n",
      "grad_input :  3\n",
      "torch.Size([512])\n",
      "torch.Size([10, 1024])\n",
      "torch.Size([1024, 512])\n",
      "grad_output   1\n",
      "torch.Size([10, 512])\n",
      "('Loss grad', 1, 25)\n",
      "grad_input :  3\n",
      "torch.Size([512])\n",
      "torch.Size([10, 1024])\n",
      "torch.Size([1024, 512])\n",
      "grad_output   1\n",
      "torch.Size([10, 512])\n",
      "('Loss grad', 0, 25)\n",
      "grad_input :  3\n",
      "torch.Size([512])\n",
      "torch.Size([10, 1024])\n",
      "torch.Size([1024, 512])\n",
      "grad_output   1\n",
      "torch.Size([10, 512])\n",
      "('Loss grad', 2, 26)\n",
      "grad_input :  3\n",
      "torch.Size([512])\n",
      "torch.Size([10, 1024])\n",
      "torch.Size([1024, 512])\n",
      "grad_output   1\n",
      "torch.Size([10, 512])\n",
      "('Loss grad', 1, 26)\n",
      "grad_input :  3\n",
      "torch.Size([512])\n",
      "torch.Size([10, 1024])\n",
      "torch.Size([1024, 512])\n",
      "grad_output   1\n",
      "torch.Size([10, 512])\n",
      "('Loss grad', 0, 26)\n",
      "grad_input :  3\n",
      "torch.Size([512])\n",
      "torch.Size([10, 1024])\n",
      "torch.Size([1024, 512])\n",
      "grad_output   1\n",
      "torch.Size([10, 512])\n",
      "('Loss grad', 2, 27)\n",
      "grad_input :  3\n",
      "torch.Size([512])\n",
      "torch.Size([10, 1024])\n",
      "torch.Size([1024, 512])\n",
      "grad_output   1\n",
      "torch.Size([10, 512])\n",
      "('Loss grad', 1, 27)\n",
      "grad_input :  3\n",
      "torch.Size([512])\n",
      "torch.Size([10, 1024])\n",
      "torch.Size([1024, 512])\n",
      "grad_output   1\n",
      "torch.Size([10, 512])\n",
      "('Loss grad', 0, 27)\n",
      "grad_input :  3\n",
      "torch.Size([512])\n",
      "torch.Size([10, 1024])\n",
      "torch.Size([1024, 512])\n",
      "grad_output   1\n",
      "torch.Size([10, 512])\n",
      "('Loss grad', 2, 28)\n",
      "grad_input :  3\n",
      "torch.Size([512])\n",
      "torch.Size([10, 1024])\n",
      "torch.Size([1024, 512])\n",
      "grad_output   1\n",
      "torch.Size([10, 512])\n",
      "('Loss grad', 1, 28)\n",
      "grad_input :  3\n",
      "torch.Size([512])\n",
      "torch.Size([10, 1024])\n",
      "torch.Size([1024, 512])\n",
      "grad_output   1\n",
      "torch.Size([10, 512])\n",
      "('Loss grad', 0, 28)\n",
      "grad_input :  3\n",
      "torch.Size([512])\n",
      "torch.Size([10, 1024])\n",
      "torch.Size([1024, 512])\n",
      "grad_output   1\n",
      "torch.Size([10, 512])\n",
      "('Loss grad', 2, 29)\n",
      "grad_input :  3\n",
      "torch.Size([512])\n",
      "torch.Size([10, 1024])\n",
      "torch.Size([1024, 512])\n",
      "grad_output   1\n",
      "torch.Size([10, 512])\n",
      "('Loss grad', 1, 29)\n",
      "grad_input :  3\n",
      "torch.Size([512])\n",
      "torch.Size([10, 1024])\n",
      "torch.Size([1024, 512])\n",
      "grad_output   1\n",
      "torch.Size([10, 512])\n",
      "('Loss grad', 0, 29)\n",
      "grad_input :  3\n",
      "torch.Size([512])\n",
      "torch.Size([10, 1024])\n",
      "torch.Size([1024, 512])\n",
      "grad_output   1\n",
      "torch.Size([10, 512])\n",
      "('Loss grad', 2, 30)\n",
      "grad_input :  3\n",
      "torch.Size([512])\n",
      "torch.Size([10, 1024])\n",
      "torch.Size([1024, 512])\n",
      "grad_output   1\n",
      "torch.Size([10, 512])\n",
      "('Loss grad', 1, 30)\n",
      "grad_input :  3\n",
      "torch.Size([512])\n",
      "torch.Size([10, 1024])\n",
      "torch.Size([1024, 512])\n",
      "grad_output   1\n",
      "torch.Size([10, 512])\n",
      "('Loss grad', 0, 30)\n",
      "grad_input :  3\n",
      "torch.Size([512])\n",
      "torch.Size([10, 1024])\n",
      "torch.Size([1024, 512])\n",
      "grad_output   1\n",
      "torch.Size([10, 512])\n",
      "('Loss grad', 2, 31)\n",
      "grad_input :  3\n",
      "torch.Size([512])\n",
      "torch.Size([10, 1024])\n",
      "torch.Size([1024, 512])\n",
      "grad_output   1\n",
      "torch.Size([10, 512])\n",
      "('Loss grad', 1, 31)\n",
      "grad_input :  3\n",
      "torch.Size([512])\n",
      "torch.Size([10, 1024])\n",
      "torch.Size([1024, 512])\n",
      "grad_output   1\n",
      "torch.Size([10, 512])\n",
      "('Loss grad', 0, 31)\n",
      "grad_input :  3\n",
      "torch.Size([512])\n",
      "torch.Size([10, 1024])\n",
      "torch.Size([1024, 512])\n",
      "grad_output   1\n",
      "torch.Size([10, 512])\n",
      "('Loss grad', 2, 32)\n",
      "grad_input :  3\n",
      "torch.Size([512])\n",
      "torch.Size([10, 1024])\n",
      "torch.Size([1024, 512])\n",
      "grad_output   1\n",
      "torch.Size([10, 512])\n",
      "('Loss grad', 1, 32)\n",
      "grad_input :  3\n",
      "torch.Size([512])\n",
      "torch.Size([10, 1024])\n",
      "torch.Size([1024, 512])\n",
      "grad_output   1\n",
      "torch.Size([10, 512])\n",
      "('Loss grad', 0, 32)\n",
      "grad_input :  3\n",
      "torch.Size([512])\n",
      "torch.Size([10, 1024])\n",
      "torch.Size([1024, 512])\n",
      "grad_output   1\n",
      "torch.Size([10, 512])\n",
      "('Loss grad', 2, 33)\n",
      "grad_input :  3\n",
      "torch.Size([512])\n",
      "torch.Size([10, 1024])\n",
      "torch.Size([1024, 512])\n",
      "grad_output   1\n",
      "torch.Size([10, 512])\n",
      "('Loss grad', 1, 33)\n",
      "grad_input :  3\n",
      "torch.Size([512])\n",
      "torch.Size([10, 1024])\n",
      "torch.Size([1024, 512])\n",
      "grad_output   1\n",
      "torch.Size([10, 512])\n",
      "('Loss grad', 0, 33)\n",
      "grad_input :  3\n",
      "torch.Size([512])\n",
      "torch.Size([10, 1024])\n",
      "torch.Size([1024, 512])\n",
      "grad_output   1\n",
      "torch.Size([10, 512])\n",
      "('Loss grad', 2, 34)\n",
      "grad_input :  3\n",
      "torch.Size([512])\n",
      "torch.Size([10, 1024])\n",
      "torch.Size([1024, 512])\n",
      "grad_output   1\n",
      "torch.Size([10, 512])\n",
      "('Loss grad', 1, 34)\n",
      "grad_input :  3\n",
      "torch.Size([512])\n",
      "torch.Size([10, 1024])\n",
      "torch.Size([1024, 512])\n",
      "grad_output   1\n",
      "torch.Size([10, 512])\n",
      "('Loss grad', 0, 34)\n",
      "grad_input :  3\n",
      "torch.Size([512])\n",
      "torch.Size([10, 1024])\n",
      "torch.Size([1024, 512])\n",
      "grad_output   1\n",
      "torch.Size([10, 512])\n",
      "('Loss grad', 2, 35)\n",
      "grad_input :  3\n",
      "torch.Size([512])\n",
      "torch.Size([10, 1024])\n",
      "torch.Size([1024, 512])\n",
      "grad_output   1\n",
      "torch.Size([10, 512])\n",
      "('Loss grad', 1, 35)\n",
      "grad_input :  3\n",
      "torch.Size([512])\n",
      "torch.Size([10, 1024])\n",
      "torch.Size([1024, 512])\n",
      "grad_output   1\n",
      "torch.Size([10, 512])\n",
      "('Loss grad', 0, 35)\n",
      "grad_input :  3\n",
      "torch.Size([512])\n",
      "torch.Size([10, 1024])\n",
      "torch.Size([1024, 512])\n",
      "grad_output   1\n",
      "torch.Size([10, 512])\n"
     ]
    }
   ],
   "source": [
    "# net.layers[1]._modules['0'].\n",
    "for i in net.layers[1].__dict__ :\n",
    "    pass\n",
    "    # print(i)\n",
    "\n",
    "# print(net.layers[1]._modules['0'])\n",
    "\n",
    "for k,v in net.layers[1]._modules['0']._forward_hooks.items():\n",
    "    print(k, \" : \", v)\n",
    "for k,v in net.layers[1]._modules['0']._backward_hooks.items():\n",
    "    print(k, \" : \", v)\n",
    "print( \"\\n\\n*******containt of grad dict*******\\n\\n\" )\n",
    "for k,v in grads.items():\n",
    "    \n",
    "    print(k)\n",
    "    print( \"grad_input : \" , len( v[0] ) )\n",
    "    for elem in v[0]:\n",
    "        print( elem.shape )\n",
    "    print( \"grad_output  \" , len( v[1] ) )\n",
    "    for elem in v[1]:\n",
    "        print( elem.shape )\n",
    "    # print(k, \" : \" , v[1][0].shape )\n",
    "# print(grads)"
   ]
  },
  {
   "cell_type": "code",
   "execution_count": 442,
   "metadata": {},
   "outputs": [
    {
     "name": "stdout",
     "output_type": "stream",
     "text": [
      "tensor([[-2.1186e-13,  9.9888e-15,  3.2517e-13,  ..., -4.1782e-13,\n",
      "         -2.5687e-13,  7.4838e-13],\n",
      "        [-3.6481e-13,  7.4039e-13,  6.0859e-13,  ...,  3.3708e-13,\n",
      "         -0.0000e+00,  2.9933e-13],\n",
      "        [-0.0000e+00, -1.8386e-13, -1.2399e-13,  ..., -0.0000e+00,\n",
      "          5.0001e-13,  0.0000e+00],\n",
      "        ...,\n",
      "        [-2.7834e-13,  0.0000e+00,  5.0268e-13,  ...,  5.3371e-13,\n",
      "         -1.4751e-13, -7.1722e-13],\n",
      "        [ 6.9897e-13, -2.9953e-14,  3.0836e-13,  ..., -2.4994e-13,\n",
      "         -3.8425e-13,  9.6809e-13],\n",
      "        [-1.1232e-13, -2.4085e-14, -1.2787e-13,  ...,  3.5790e-13,\n",
      "         -9.3816e-13, -1.1606e-12]])\n"
     ]
    },
    {
     "data": {
      "text/plain": [
       "array([7.2610164e-12, 6.4513334e-12, 6.2562989e-12, 8.2184806e-12,\n",
       "       5.6499241e-12, 1.0088197e-11, 7.8531114e-12, 6.2999601e-12,\n",
       "       7.6506535e-12, 6.0851294e-12], dtype=float32)"
      ]
     },
     "execution_count": 442,
     "metadata": {},
     "output_type": "execute_result"
    }
   ],
   "source": [
    "print( grads['Loss grad', 0, 30][1][0] )\n",
    "torch.norm(grads['Loss grad', 1, 30][1][0],dim=-1).numpy()"
   ]
  },
  {
   "cell_type": "code",
   "execution_count": 459,
   "metadata": {},
   "outputs": [],
   "source": [
    "nablaL = torch.empty(10,num_layers,35,512)\n",
    "\n",
    "for i in range(num_layers):\n",
    "    for j in range(35):\n",
    "        nablaL[:,i,j,:] = grads['Loss grad', i, 35-j][1][0] # retrieve grad wrt loss\n",
    "\n",
    "# vector of norm\n",
    "norm_nablaL = torch.norm(nablaL,dim=-1) # dim 0 : batch, dim 1 : hidden layer, dim 2 : time_step\n",
    "\n",
    "# vector of mean of norm, the mean is taken across sequence in a batch\n",
    "norm_avg_nablaL = torch.mean(norm_nablaL,dim=0).numpy()"
   ]
  },
  {
   "cell_type": "code",
   "execution_count": 445,
   "metadata": {},
   "outputs": [
    {
     "name": "stdout",
     "output_type": "stream",
     "text": [
      "(10, 3, 35)\n"
     ]
    }
   ],
   "source": [
    "print(norm_nablaL.shape)"
   ]
  },
  {
   "cell_type": "code",
   "execution_count": 456,
   "metadata": {},
   "outputs": [
    {
     "name": "stdout",
     "output_type": "stream",
     "text": [
      "tensor([0.3373, 0.3868, 0.6963])\n"
     ]
    }
   ],
   "source": [
    "print( torch.mean( torch.rand(3,5) , dim=-1 ))"
   ]
  },
  {
   "cell_type": "code",
   "execution_count": 461,
   "metadata": {},
   "outputs": [
    {
     "data": {
      "image/png": "[encoded data removed]",
      "text/plain": [
       "<Figure size 432x288 with 1 Axes>"
      ]
     },
     "metadata": {
      "needs_background": "light"
     },
     "output_type": "display_data"
    },
    {
     "data": {
      "image/png": "[encoded data removed]",
      "text/plain": [
       "<Figure size 432x288 with 1 Axes>"
      ]
     },
     "metadata": {
      "needs_background": "light"
     },
     "output_type": "display_data"
    }
   ],
   "source": [
    "import matplotlib.cm as cm\n",
    "colors = cm.rainbow(np.linspace(0, 1, 10))\n",
    "\n",
    "# plot grad across sequence in a batch, for one hidden layer\n",
    "xx = np.arange( 35 )\n",
    "for i in range( 10 ):\n",
    "    plt.plot( xx ,  norm_nablaL[i,1,:].numpy() , 'o-' ,  markersize=5, linewidth=2, color=colors[i] , alpha=0.55)\n",
    "    \n",
    "plt.show()\n",
    "\n",
    "# plot mean grad for one hidden layer\n",
    "plt.plot( xx ,  norm_avg_nablaL[1,:] , 'o-' ,  markersize=5, linewidth=2, color=colors[i] , alpha=0.55)\n",
    "plt.show()"
   ]
  },
  {
   "cell_type": "code",
   "execution_count": 453,
   "metadata": {},
   "outputs": [
    {
     "data": {
      "image/png": "[encoded data removed]",
      "text/plain": [
       "<Figure size 432x288 with 1 Axes>"
      ]
     },
     "metadata": {
      "needs_background": "light"
     },
     "output_type": "display_data"
    }
   ],
   "source": [
    "# plot grad across hidden layers, for one sequence in a batch\n",
    "xx = np.arange( 35 )\n",
    "for i in range( 3 ):\n",
    "    plt.plot( xx ,  norm_nablaL[0,i,:] , 'o-' ,  markersize=5, linewidth=2, color=colors[i] , alpha=0.55)\n",
    "    \n",
    "plt.show()"
   ]
  },
  {
   "cell_type": "code",
   "execution_count": null,
   "metadata": {},
   "outputs": [],
   "source": []
  }
 ],
 "metadata": {
  "kernelspec": {
   "display_name": "Python 3",
   "language": "python",
   "name": "python3"
  },
  "language_info": {
   "codemirror_mode": {
    "name": "ipython",
    "version": 3
   },
   "file_extension": ".py",
   "mimetype": "text/x-python",
   "name": "python",
   "nbconvert_exporter": "python",
   "pygments_lexer": "ipython3",
   "version": "3.6.5"
  }
 },
 "nbformat": 4,
 "nbformat_minor": 2
}
