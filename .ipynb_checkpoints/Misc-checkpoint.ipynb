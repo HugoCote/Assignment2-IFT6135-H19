{
 "cells": [
  {
   "cell_type": "code",
   "execution_count": 1,
   "metadata": {},
   "outputs": [],
   "source": [
    "import numpy as np\n",
    "import argparse\n",
    "import time\n",
    "import collections\n",
    "import os\n",
    "import sys\n",
    "import torch\n",
    "import torch.nn\n",
    "from torch.autograd import Variable\n",
    "import torch.nn as nn\n",
    "\n",
    "import matplotlib.pyplot as plt "
   ]
  },
  {
   "cell_type": "code",
   "execution_count": 11,
   "metadata": {},
   "outputs": [
    {
     "name": "stdout",
     "output_type": "stream",
     "text": [
      "salut\n"
     ]
    }
   ],
   "source": [
    "import models\n",
    "# __import__(\"ptb-lm\")\n",
    "print(\"salut\")"
   ]
  },
  {
   "cell_type": "code",
   "execution_count": 12,
   "metadata": {},
   "outputs": [
    {
     "data": {
      "text/plain": [
       "torch.Size([1, 6, 6])"
      ]
     },
     "execution_count": 12,
     "metadata": {},
     "output_type": "execute_result"
    }
   ],
   "source": [
    "models.subsequent_mask(6).size()"
   ]
  },
  {
   "cell_type": "code",
   "execution_count": 13,
   "metadata": {},
   "outputs": [],
   "source": [
    "# display 1 plot, loss across epoch, \n",
    "def plot_1d_loss(loss, path_to_save = \"\", filename = \"\", \n",
    "                         net_name=\"\",want_log = False, figsize = (16,10), \n",
    "                         font_size = 16 ):\n",
    "    \n",
    "    plt.rcParams.update({'font.size': font_size})\n",
    "    plt.rcParams[\"figure.figsize\"] = figsize \n",
    "    \n",
    "    nb_epoch =  len( loss[0] )\n",
    "    \n",
    "    x = np.linspace(1, nb_epoch, nb_epoch)\n",
    "    \n",
    "    ya = loss[0]\n",
    "    yb = loss[1]\n",
    "    linea_label = \"loss on the train set\"\n",
    "    lineb_label = \"loss on the valid set\"\n",
    "    \n",
    "    plt.subplot(1,1,1)\n",
    "\n",
    "    plt.axhline(y=75,color=\"black\")\n",
    "\n",
    "    linea, = plt.plot(x, ya, \"o-\", label=linea_label)\n",
    "    linea.set_dashes([2, 2])  # 2pt line, 2pt break\n",
    "\n",
    "    lineb, = plt.plot(x, yb, \"x-\", label=lineb_label)\n",
    "    lineb.set_dashes([2, 2])  # 2pt line, 2pt break\n",
    "\n",
    "    str_title1 = \"Losses\"\n",
    "    plt.title(str_title1)\n",
    "    plt.xlabel('Epoch')\n",
    "    plt.ylabel('Loss')\n",
    "    plt.legend()\n",
    "\n",
    "    # path_to_save = \"./output/\" \n",
    "    # filename     = datetime.datetime.now().strftime(\"%Y%B%d_%p%IH%MM\")\n",
    "    if want_log :\n",
    "        plt.savefig(path_to_save + filename + \".png\")\n",
    "    plt.show()"
   ]
  },
  {
   "cell_type": "code",
   "execution_count": 14,
   "metadata": {},
   "outputs": [
    {
     "name": "stdout",
     "output_type": "stream",
     "text": [
      "3 , 0 , 1 , 2 , 0 , 1 , 2 , 3 , "
     ]
    }
   ],
   "source": [
    "def mongen( n ) :\n",
    "    print( n , end = \" , \" )\n",
    "    for i in range(n) :\n",
    "        yield i\n",
    "    for j in range(n) :\n",
    "        yield j\n",
    "    print( n , end = \" , \" )\n",
    "\n",
    "mg = mongen(3)\n",
    "for x in mg:\n",
    "    print(x , end = \" , \" )"
   ]
  },
  {
   "cell_type": "code",
   "execution_count": 15,
   "metadata": {},
   "outputs": [],
   "source": [
    "class Batch:\n",
    "    \"Data processing for the transformer. This class adds a mask to the data.\"\n",
    "    def __init__(self, x, pad=0):\n",
    "        self.data = x\n",
    "        self.mask = self.make_mask(self.data, pad)\n",
    "\n",
    "    @staticmethod\n",
    "    def make_mask(data, pad):\n",
    "        \"Create a mask to hide future words.\"\n",
    "\n",
    "        def subsequent_mask(size):\n",
    "            \"\"\" helper function for creating the masks. \"\"\"\n",
    "            attn_shape = (1, size, size)\n",
    "            subsequent_mask = np.triu(np.ones(attn_shape), k=1).astype('uint8')\n",
    "            return torch.from_numpy(subsequent_mask) == 0\n",
    "\n",
    "        mask = (data != pad).unsqueeze(-2)\n",
    "        mask = mask & Variable(\n",
    "            subsequent_mask(data.size(-1)).type_as(mask.data))\n",
    "        return mask"
   ]
  },
  {
   "cell_type": "code",
   "execution_count": 16,
   "metadata": {},
   "outputs": [
    {
     "name": "stdout",
     "output_type": "stream",
     "text": [
      "tensor([[ 1,  2,  3,  4],\n",
      "        [ 5,  6,  7,  8],\n",
      "        [ 9, 10, 11, 12],\n",
      "        [13, 14, 15, 16],\n",
      "        [17, 18, 19, 20]])\n",
      "tensor([[[1, 0, 0, 0],\n",
      "         [1, 1, 0, 0],\n",
      "         [1, 1, 1, 0],\n",
      "         [1, 1, 1, 1]],\n",
      "\n",
      "        [[1, 0, 0, 0],\n",
      "         [1, 1, 0, 0],\n",
      "         [1, 1, 1, 0],\n",
      "         [1, 1, 1, 1]],\n",
      "\n",
      "        [[1, 0, 0, 0],\n",
      "         [1, 1, 0, 0],\n",
      "         [1, 1, 1, 0],\n",
      "         [1, 1, 1, 1]],\n",
      "\n",
      "        [[1, 0, 0, 0],\n",
      "         [1, 1, 0, 0],\n",
      "         [1, 1, 1, 0],\n",
      "         [1, 1, 1, 1]],\n",
      "\n",
      "        [[1, 0, 0, 0],\n",
      "         [1, 1, 0, 0],\n",
      "         [1, 1, 1, 0],\n",
      "         [1, 1, 1, 1]]], dtype=torch.uint8)\n"
     ]
    }
   ],
   "source": [
    "n = 5\n",
    "m = 4\n",
    "x  = torch.arange(1,n*m+1).view(n,m)\n",
    "bt = Batch(x)\n",
    "\n",
    "print( bt.data )\n",
    "print( bt.mask )"
   ]
  },
  {
   "cell_type": "code",
   "execution_count": 17,
   "metadata": {},
   "outputs": [],
   "source": [
    "# HELPER FUNCTIONS\n",
    "def _read_words(filename):\n",
    "    with open(filename, \"r\") as f:\n",
    "      return f.read().replace(\"\\n\", \"<eos>\").split()\n",
    "\n",
    "def _build_vocab(filename):\n",
    "    data = _read_words(filename)\n",
    "\n",
    "    counter = collections.Counter(data)\n",
    "    count_pairs = sorted(counter.items(), key=lambda x: (-x[1], x[0]))\n",
    "\n",
    "    words, _ = list(zip(*count_pairs))\n",
    "    word_to_id = dict(zip(words, range(len(words))))\n",
    "    id_to_word = dict((v, k) for k, v in word_to_id.items())\n",
    "\n",
    "    return word_to_id, id_to_word\n",
    "\n",
    "def _file_to_word_ids(filename, word_to_id):\n",
    "    data = _read_words(filename)\n",
    "    return [word_to_id[word] for word in data if word in word_to_id]\n",
    "\n",
    "# Processes the raw data from text files\n",
    "def ptb_raw_data(data_path=None, prefix=\"ptb\"):\n",
    "    train_path = os.path.join(data_path, prefix + \".train.txt\")\n",
    "    valid_path = os.path.join(data_path, prefix + \".valid.txt\")\n",
    "    test_path  = os.path.join(data_path, prefix + \".test.txt\")\n",
    "\n",
    "    word_to_id, id_2_word = _build_vocab(train_path)\n",
    "    train_data = _file_to_word_ids(train_path, word_to_id)\n",
    "    valid_data = _file_to_word_ids(valid_path, word_to_id)\n",
    "    test_data  = _file_to_word_ids(test_path , word_to_id)\n",
    "    return train_data, valid_data, test_data, word_to_id, id_2_word\n",
    "\n",
    "# Yields minibatches of data\n",
    "def ptb_iterator(raw_data, batch_size, num_steps):\n",
    "    raw_data = np.array(raw_data, dtype=np.int32)\n",
    "\n",
    "    data_len = len(raw_data)\n",
    "    batch_len = data_len // batch_size\n",
    "    data = np.zeros([batch_size, batch_len], dtype=np.int32)\n",
    "    for i in range(batch_size):\n",
    "        data[i] = raw_data[batch_len * i:batch_len * (i + 1)]\n",
    "\n",
    "    epoch_size = (batch_len - 1) // num_steps\n",
    "\n",
    "    if epoch_size == 0:\n",
    "        raise ValueError(\"epoch_size == 0, decrease batch_size or num_steps\")\n",
    "\n",
    "    for i in range(epoch_size):\n",
    "        x = data[:, i*num_steps:(i+1)*num_steps]\n",
    "        y = data[:, i*num_steps+1:(i+1)*num_steps+1]\n",
    "        yield (x, y)"
   ]
  },
  {
   "cell_type": "code",
   "execution_count": 18,
   "metadata": {},
   "outputs": [
    {
     "name": "stdout",
     "output_type": "stream",
     "text": [
      "Loading data from ./from_teacher/data\n",
      "  vocabulary size: 10000\n",
      "x :  [[1132   93  358    5  329   51 9836    6  326 2476]\n",
      " [1490   43 7585    0  153    9    1    1    2    0]\n",
      " [3025   13    5 3115    0  598 1953   28   44    2]]\n",
      "z :  tensor([[[-4.5267e-01,  7.7100e+00, -1.2142e+01,  ..., -1.1839e+01,\n",
      "           7.4125e+00, -1.0972e+01],\n",
      "         [ 3.6991e+00, -4.0353e+01, -8.1422e+00,  ...,  1.4774e+01,\n",
      "          -3.7195e+00,  2.5447e+01],\n",
      "         [ 3.5553e+00, -2.8781e+01, -7.0765e+00,  ..., -2.6066e+01,\n",
      "           1.8714e+01,  1.6183e+01],\n",
      "         ...,\n",
      "         [ 1.7071e+01, -3.9439e+01,  3.3740e+01,  ..., -2.0699e+01,\n",
      "           4.2777e+00, -1.5425e-02],\n",
      "         [-9.4698e+00,  2.3660e+01, -1.1504e+01,  ..., -1.4002e+01,\n",
      "          -2.4336e+01, -8.3073e-01],\n",
      "         [-1.3034e-01, -5.9321e+01,  1.9593e+01,  ..., -3.6679e+00,\n",
      "          -3.8543e+01, -2.2690e+01]],\n",
      "\n",
      "        [[ 4.6561e+00, -5.1666e+00,  3.2375e+01,  ...,  6.5053e+00,\n",
      "           3.7746e+01, -4.0822e+01],\n",
      "         [-2.3682e+01, -9.6610e+00, -3.2222e+00,  ..., -2.7564e+01,\n",
      "          -3.2475e+01, -2.1720e+00],\n",
      "         [ 1.7212e+01, -2.8827e+01,  1.3241e+01,  ...,  2.9262e+01,\n",
      "           2.3239e+00,  4.5927e+01],\n",
      "         ...,\n",
      "         [ 2.4849e+01, -3.2058e+01, -5.9894e+01,  ...,  7.4209e+00,\n",
      "          -3.7864e+01, -2.1969e+01],\n",
      "         [ 2.1902e+01, -1.1345e+01, -5.1753e+01,  ..., -3.0433e+01,\n",
      "           2.3325e+01, -1.9978e+01],\n",
      "         [ 3.1509e+01, -1.1172e+00,  3.2494e+00,  ..., -1.1521e+01,\n",
      "           3.1344e+01,  2.3775e+01]],\n",
      "\n",
      "        [[ 2.9122e+01,  2.4951e+01, -4.9282e+00,  ..., -1.2330e+01,\n",
      "           4.2797e+01, -3.9607e+01],\n",
      "         [-2.4314e+01, -6.0034e+00,  3.9879e+00,  ..., -3.8565e+01,\n",
      "           6.8213e+00,  2.8292e+01],\n",
      "         [ 3.9325e+01,  7.2098e+00, -4.2507e+01,  ...,  1.7133e+00,\n",
      "          -1.9219e+01,  9.0856e-02],\n",
      "         ...,\n",
      "         [ 5.5488e+01,  3.0964e+01, -2.8509e+01,  ...,  4.4312e+01,\n",
      "          -8.3589e-02, -2.6408e+01],\n",
      "         [ 1.8960e+01, -7.6323e-01,  3.5995e+01,  ...,  4.6415e+01,\n",
      "           7.9602e+00, -5.6187e+01],\n",
      "         [ 2.1902e+01, -1.1345e+01, -5.1753e+01,  ..., -3.0433e+01,\n",
      "           2.3325e+01, -1.9978e+01]]], grad_fn=<MulBackward0>)\n"
     ]
    }
   ],
   "source": [
    "seqlen    = 10\n",
    "batchsize = 3\n",
    "datapath  = \"./from_teacher/data\"\n",
    "\n",
    "print('Loading data from '+datapath)\n",
    "raw_data = ptb_raw_data(data_path=datapath)\n",
    "train_data, valid_data, test_data, word_to_id, id_2_word = raw_data\n",
    "vocab_size = len(word_to_id)\n",
    "print('  vocabulary size: {}'.format(vocab_size))\n",
    "\n",
    "data = valid_data\n",
    "\n",
    "for i in range(100):\n",
    "    pass \n",
    "    # print( data[i] , end = \" \")\n",
    "\n",
    "# print( \"\\n\\n\" )\n",
    "\n",
    "for i in range(100):\n",
    "    pass \n",
    "    # print( data[len(data)//3 + i] , end = \" \")\n",
    "\n",
    "# print( )\n",
    "\n",
    "emb = models.WordEmbedding(512, 10000)\n",
    "\n",
    "for step, (x, y) in enumerate(ptb_iterator(data, batchsize, seqlen)):\n",
    "    if step > 0 : \n",
    "        break\n",
    "    print( \"x : \" , x )\n",
    "    # print( \"y : \" , y )\n",
    "    z = emb( torch.from_numpy(x).long() )\n",
    "    print( \"z : \" , z )"
   ]
  },
  {
   "cell_type": "code",
   "execution_count": 75,
   "metadata": {},
   "outputs": [
    {
     "name": "stdout",
     "output_type": "stream",
     "text": [
      "torch.Size([5, 1, 5, 5])\n"
     ]
    }
   ],
   "source": [
    "# test le comportement de matmul\n",
    "ma = torch.rand(5,1,5,5)\n",
    "mb = torch.rand(5,1,5,5)\n",
    "mc = torch.matmul(ma,mb)\n",
    "print( mc.shape )"
   ]
  },
  {
   "cell_type": "code",
   "execution_count": 79,
   "metadata": {},
   "outputs": [
    {
     "name": "stdout",
     "output_type": "stream",
     "text": [
      "0.001\n"
     ]
    }
   ],
   "source": [
    "print( 1.0e-3 )"
   ]
  },
  {
   "cell_type": "code",
   "execution_count": 86,
   "metadata": {},
   "outputs": [
    {
     "name": "stdout",
     "output_type": "stream",
     "text": [
      "tensor([[[[ 4.8395e-01, -1.0000e-10, -1.0000e-10, -1.0000e-10, -1.0000e-10],\n",
      "          [ 8.6481e-01,  8.5324e-01, -1.0000e-10, -1.0000e-10, -1.0000e-10],\n",
      "          [ 1.8689e-02,  3.4172e-01,  9.2428e-01, -1.0000e-10, -1.0000e-10],\n",
      "          [ 5.1026e-01,  7.9892e-01,  9.2414e-01,  1.8180e-02, -1.0000e-10],\n",
      "          [ 7.2341e-01,  2.8508e-01,  2.9571e-01,  4.9876e-01,  6.3614e-01]],\n",
      "\n",
      "         [[ 5.6069e-01, -1.0000e-10, -1.0000e-10, -1.0000e-10, -1.0000e-10],\n",
      "          [ 3.6191e-01,  5.1832e-01, -1.0000e-10, -1.0000e-10, -1.0000e-10],\n",
      "          [ 8.5660e-01,  1.3079e-01,  3.5730e-02, -1.0000e-10, -1.0000e-10],\n",
      "          [ 7.5752e-01,  1.8404e-01,  2.0961e-01,  6.7917e-02, -1.0000e-10],\n",
      "          [ 2.4535e-01,  5.4799e-01,  4.9306e-01,  2.1319e-01,  7.1723e-01]]],\n",
      "\n",
      "\n",
      "        [[[ 8.3336e-01, -1.0000e-10, -1.0000e-10, -1.0000e-10, -1.0000e-10],\n",
      "          [ 7.0551e-01,  5.1481e-02, -1.0000e-10, -1.0000e-10, -1.0000e-10],\n",
      "          [ 3.7468e-01,  7.9451e-01,  5.2468e-01, -1.0000e-10, -1.0000e-10],\n",
      "          [ 2.5044e-01,  1.0151e-01,  1.4764e-01,  7.4806e-01, -1.0000e-10],\n",
      "          [ 4.9062e-01,  3.1733e-01,  8.4431e-01,  8.1254e-01,  1.1203e-01]],\n",
      "\n",
      "         [[ 2.1344e-01, -1.0000e-10, -1.0000e-10, -1.0000e-10, -1.0000e-10],\n",
      "          [ 5.8963e-02,  1.8650e-01, -1.0000e-10, -1.0000e-10, -1.0000e-10],\n",
      "          [ 5.6743e-01,  9.4339e-01,  4.0247e-01, -1.0000e-10, -1.0000e-10],\n",
      "          [ 1.1886e-01,  9.0226e-01,  4.9630e-01,  2.6558e-01, -1.0000e-10],\n",
      "          [ 3.7059e-02,  2.9498e-02,  4.1958e-01,  5.1015e-01,  6.0566e-01]]],\n",
      "\n",
      "\n",
      "        [[[ 5.1708e-01, -1.0000e-10, -1.0000e-10, -1.0000e-10, -1.0000e-10],\n",
      "          [ 9.2248e-01,  7.3022e-01, -1.0000e-10, -1.0000e-10, -1.0000e-10],\n",
      "          [ 5.5737e-01,  1.3797e-01,  1.8076e-01, -1.0000e-10, -1.0000e-10],\n",
      "          [ 9.6290e-01,  3.7030e-01,  3.2924e-01,  8.3344e-01, -1.0000e-10],\n",
      "          [ 5.9829e-01,  2.7248e-01,  2.6333e-01,  1.7309e-01,  1.9059e-01]],\n",
      "\n",
      "         [[ 5.7940e-01, -1.0000e-10, -1.0000e-10, -1.0000e-10, -1.0000e-10],\n",
      "          [ 4.2549e-01,  3.5782e-01, -1.0000e-10, -1.0000e-10, -1.0000e-10],\n",
      "          [ 2.5248e-01,  9.5419e-01,  1.5172e-01, -1.0000e-10, -1.0000e-10],\n",
      "          [ 1.6188e-01,  9.5390e-01,  1.9458e-01,  8.1976e-01, -1.0000e-10],\n",
      "          [ 1.3272e-01,  2.5249e-01,  5.3432e-01,  3.9983e-01,  2.9672e-01]]]])\n"
     ]
    }
   ],
   "source": [
    "# test le comportement de mask_fill pour masque de mauvaise dimension\n",
    "ma      =  torch.rand(3,2,5,5)\n",
    "monmask = models.subsequent_mask(5).unsqueeze(0)\n",
    "ma      = ma.masked_fill(1-monmask, -1.0e-10)\n",
    "print( ma )"
   ]
  },
  {
   "cell_type": "code",
   "execution_count": 92,
   "metadata": {},
   "outputs": [
    {
     "name": "stdout",
     "output_type": "stream",
     "text": [
      "tensor([[0., 0., 0., 0., 0.],\n",
      "        [0., 0., 0., 0., 0.],\n",
      "        [0., 0., 0., 0., 0.],\n",
      "        [0., 0., 0., 0., 0.],\n",
      "        [0., 0., 0., 0., 0.]])\n",
      "tensor([[-0.7320, -0.4545, -0.0939, -0.6642,  0.2825],\n",
      "        [ 0.2704, -0.9190,  0.5443,  0.7840,  0.9913],\n",
      "        [ 0.3041,  0.0796,  0.8212,  0.1303,  0.5204],\n",
      "        [ 0.2217,  0.0928,  0.7697,  0.6598, -0.0980],\n",
      "        [ 0.2817, -0.3566, -0.5500, -0.4815,  0.7547]])\n"
     ]
    }
   ],
   "source": [
    "mt = torch.zeros(5,5)\n",
    "print(mt)\n",
    "mt.uniform_(-1,1)\n",
    "print(mt)"
   ]
  },
  {
   "cell_type": "code",
   "execution_count": 97,
   "metadata": {},
   "outputs": [
    {
     "name": "stdout",
     "output_type": "stream",
     "text": [
      "tensor([0.5000])\n",
      "tensor([0.5000])\n"
     ]
    }
   ],
   "source": [
    "n = 4\n",
    "print( torch.rsqrt( torch.tensor([4]).float() ) )\n",
    "print( torch.rsqrt( torch.tensor([n]).float() ) )"
   ]
  },
  {
   "cell_type": "code",
   "execution_count": 103,
   "metadata": {},
   "outputs": [
    {
     "name": "stdout",
     "output_type": "stream",
     "text": [
      "salut\n",
      "allo\n"
     ]
    }
   ],
   "source": [
    "class maclass :\n",
    "    def __init__(self):\n",
    "        self.a = 1\n",
    "        def mafonc():\n",
    "            print(\"salut\")\n",
    "        mafonc()\n",
    "        self.mafonc2()\n",
    "        \n",
    "    def mafonc2(self):\n",
    "        print(\"allo\")\n",
    "\n",
    "monobj = maclass()\n",
    "            "
   ]
  },
  {
   "cell_type": "code",
   "execution_count": 104,
   "metadata": {},
   "outputs": [],
   "source": [
    "lc_path = \"./TRANSFORMER_ADAM_model=TRANSFORMER_debug_optimizer=ADAM_initial_lr=20_batch_size=64_seq_len=35_hidden_size=256_num_layers=4_dp_keep_prob=0.9_save_best_0/learning_curves.npy\"\n",
    "x = np.load(lc_path)[()]"
   ]
  },
  {
   "cell_type": "code",
   "execution_count": 110,
   "metadata": {},
   "outputs": [],
   "source": [
    "lc_path = \"./TRANSFORMER_ADAM_model=TRANSFORMER_debug_optimizer=ADAM_initial_lr=20_batch_size=64_seq_len=35_hidden_size=256_num_layers=4_dp_keep_prob=0.9_save_best_0/learning_curves.npy\"\n",
    "x = np.load(lc_path)[()]\n",
    "\n",
    "train_loss = x['train_losses']\n",
    "valid_loss = x['val_losses']\n",
    "losses     = [train_loss , valid_loss]\n",
    "\n",
    "# plot_1d_loss_and_ppl( losses , ppls )"
   ]
  },
  {
   "cell_type": "code",
   "execution_count": 8,
   "metadata": {},
   "outputs": [
    {
     "name": "stdout",
     "output_type": "stream",
     "text": [
      "tensor([[0.1290, 0.4337],\n",
      "        [0.1363, 0.0778]])\n",
      "tensor([[0.3583, 0.9949],\n",
      "        [0.5460, 0.4209]])\n",
      "tensor([[0.1712, 0.5312],\n",
      "        [0.6987, 0.1344]])\n",
      "tensor([[0.7503, 0.8792],\n",
      "        [0.9602, 0.8866]])\n",
      "tensor([[0.0529, 0.9568],\n",
      "        [0.4199, 0.8017]])\n",
      "tensor([[0.0529, 0.9568],\n",
      "        [0.4199, 0.8017]])\n"
     ]
    }
   ],
   "source": [
    "def mongen( n ):\n",
    "    for i in range(n) :\n",
    "        yield torch.rand(2,2)\n",
    "\n",
    "mg = mongen(5)\n",
    "for x in mg:\n",
    "    print(x)\n",
    "print(x)\n",
    "del x"
   ]
  },
  {
   "cell_type": "code",
   "execution_count": 9,
   "metadata": {},
   "outputs": [
    {
     "name": "stdout",
     "output_type": "stream",
     "text": [
      "[3, 4]\n"
     ]
    }
   ],
   "source": [
    "ll = []\n",
    "ll += [3]\n",
    "ll += [4]\n",
    "print(ll)"
   ]
  },
  {
   "cell_type": "code",
   "execution_count": 75,
   "metadata": {},
   "outputs": [
    {
     "name": "stdout",
     "output_type": "stream",
     "text": [
      "Loading data from ./from_teacher/data\n",
      "  vocabulary size: 10000\n",
      "the  -->  0\n",
      "cat  -->  7915\n",
      "is  -->  13\n",
      "for  -->  11\n",
      "hypercube  -->  None\n"
     ]
    }
   ],
   "source": [
    "seqlen    = 20\n",
    "batchsize = 1\n",
    "datapath  = \"./from_teacher/data\"\n",
    "\n",
    "print('Loading data from '+datapath)\n",
    "raw_data = ptb_raw_data(data_path=datapath)\n",
    "train_data, valid_data, test_data, word_to_id, id_2_word = raw_data\n",
    "vocab_size = len(word_to_id)\n",
    "print('  vocabulary size: {}'.format(vocab_size))\n",
    "\n",
    "sample_words_list = [ \"the\", \"cat\" ,\"is\", \"for\", \"hypercube\" ]\n",
    "for w in sample_words_list:\n",
    "    print( w , \" --> \" , word_to_id.get(w) )"
   ]
  },
  {
   "cell_type": "code",
   "execution_count": 57,
   "metadata": {},
   "outputs": [
    {
     "name": "stdout",
     "output_type": "stream",
     "text": [
      "the\n",
      "<unk>\n",
      "<eos>\n",
      "N\n",
      "of\n",
      "to\n",
      "a\n",
      "in\n",
      "and\n",
      "'s\n",
      "that\n",
      "for\n",
      "$\n",
      "is\n",
      "it\n",
      "said\n",
      "on\n",
      "by\n",
      "at\n",
      "as\n",
      "['the', '<unk>', '<eos>']\n"
     ]
    }
   ],
   "source": [
    "for i in range(20):\n",
    "    print(id_2_word[i])\n",
    "    \n",
    "malist = [ id_2_word[i] for i in [0,1,2] ]\n",
    "print(malist)"
   ]
  },
  {
   "cell_type": "code",
   "execution_count": 32,
   "metadata": {},
   "outputs": [
    {
     "name": "stdout",
     "output_type": "stream",
     "text": [
      "[0]\n"
     ]
    }
   ],
   "source": [
    "x = np.ndarray(1,dtype=int)\n",
    "x[0]=0\n",
    "print(x)"
   ]
  },
  {
   "cell_type": "code",
   "execution_count": 43,
   "metadata": {},
   "outputs": [
    {
     "name": "stdout",
     "output_type": "stream",
     "text": [
      "tensor([2.7183, 7.3891])\n"
     ]
    }
   ],
   "source": [
    "x = torch.tensor([1,2] , dtype = torch.float )\n",
    "print( torch.exp(x) )"
   ]
  },
  {
   "cell_type": "code",
   "execution_count": 77,
   "metadata": {},
   "outputs": [
    {
     "name": "stdout",
     "output_type": "stream",
     "text": [
      "(1, 3)\n",
      "torch.Size([10000])\n",
      "certainty :  tensor([0.0003, 0.0003, 0.0003])\n",
      "top id    :  tensor([5054, 9697, 9401])\n",
      "torch.Size([3])\n",
      "top words :  ['acceptances', 'freed', 'sheep']\n"
     ]
    }
   ],
   "source": [
    "from models import make_model as TRANSFORMER\n",
    "net = TRANSFORMER(vocab_size=vocab_size, n_units=512, n_blocks=2)\n",
    "with torch.no_grad() :\n",
    "    batch_size = 1 \n",
    "    batch_len  = 3\n",
    "    x = np.zeros([batch_size, batch_len], dtype=np.int32)\n",
    "    x[0,0] = 0\n",
    "    x[0,1] = 7915\n",
    "    x[0,2] = 13\n",
    "    print( x.shape )\n",
    "    batch = Batch(torch.from_numpy(x).long().cpu() )\n",
    "    y = net.forward( batch.data, batch.mask )[0,-1,:]\n",
    "    certainty, top_id = torch.topk(y, 3, dim=-1, largest=True, sorted=True)\n",
    "    print( y.shape )\n",
    "    print( \"certainty : \" , torch.exp(certainty) )\n",
    "    print( \"top id    : \" , top_id )\n",
    "    print( top_id.shape )\n",
    "    print( \"top words : \" , [ id_2_word.get( i.item() ) for i in top_id ] )\n",
    "    "
   ]
  },
  {
   "cell_type": "code",
   "execution_count": 80,
   "metadata": {},
   "outputs": [
    {
     "name": "stdout",
     "output_type": "stream",
     "text": [
      "4\n",
      "5\n",
      "6\n",
      "7\n",
      "8\n",
      "9\n",
      "10\n",
      "11\n",
      "12\n",
      "13\n"
     ]
    }
   ],
   "source": [
    "for i in range(4,14):\n",
    "    print(i)"
   ]
  },
  {
   "cell_type": "code",
   "execution_count": 86,
   "metadata": {},
   "outputs": [],
   "source": [
    "# \n",
    "loading_path = \"./TRANSFORMER_SGD_LR_SCHEDULE_model=TRANSFORMER_optimizer=SGD_LR_SCHEDULE_initial_lr=20_batch_size=64_seq_len=35_hidden_size=512_num_layers=6_dp_keep_prob=0.9_save_best_3\"\n",
    "loading_path += \"/best_params.pt\"\n",
    "\n",
    "net = TRANSFORMER(vocab_size=10000, n_units=512, n_blocks=6, dropout=0.1)\n",
    "net.load_state_dict(torch.load(loading_path))"
   ]
  },
  {
   "cell_type": "code",
   "execution_count": 134,
   "metadata": {},
   "outputs": [],
   "source": [
    "class SamplerNode:\n",
    "    # contains sequence of words and associated probability\n",
    "    def __init__(self, seq, pro):\n",
    "        self.seq = seq\n",
    "        self.pro = pro\n",
    "    \n",
    "    def get_values(self):\n",
    "        return self.seq, self.pro\n",
    "    \n",
    "    # define lower than operator\n",
    "    # comparison is made according to probabilitie, not sequence\n",
    "    def __lt__(self, other):\n",
    "        return self.pro  < other.pro \n",
    "\n",
    "class BeamSampler:\n",
    "    def __init__(self, net, length, beam_size, seed, id_2_word, word_to_id) :\n",
    "        self.net       = net \n",
    "        self.length    = length\n",
    "        self.seed_id   = word_to_id.get(seed)\n",
    "        self.id_2_word = id_2_word\n",
    "        self.word_to_id= word_to_id\n",
    "        self.nodes     = []\n",
    "        self.beam_size = beam_size\n",
    "        \n",
    "    def generate_sequence(self):\n",
    "        \n",
    "        # first step : sample from seed\n",
    "        self.gen_first_nodes_from_seed()\n",
    "        \n",
    "        # all subsequent step : sample from nodes\n",
    "        # we have already generated 2 words by now\n",
    "        for i in range(2,self.length):\n",
    "            # self.print_nodes()\n",
    "            self.next_step()\n",
    "    \n",
    "    def print_nodes(self):\n",
    "        # pick the best node\n",
    "        for i, node in enumerate(sorted(self.nodes)):\n",
    "            seq, prob = node.get_values()\n",
    "            print( \"node no.\" , i , \" , prob = \" , prob , \" : \\n\" )\n",
    "            print( self.id_seq_2_word_seq(seq) )\n",
    "            \n",
    "    def id_seq_2_word_seq(self, id_seq):\n",
    "        return [ self.id_2_word.get( i ) for i in id_seq ]\n",
    "        \n",
    "    def next_step(self):\n",
    "        # generete next word suggestion for all current nodes\n",
    "        # and pick the best amongst them to form the next layer\n",
    "        # of nodes\n",
    "        bs              = self.beam_size\n",
    "        next_nodes      = []\n",
    "        best_next_nodes = []\n",
    "        next_nodes_prob = torch.zeros( bs , bs , dtype=torch.float)\n",
    "        \n",
    "        for i,n in enumerate(self.nodes):\n",
    "            seq, pro = n.get_values()\n",
    "            next_words, probs = self.sample(seq)\n",
    "            for j,nw in enumerate(next_words):\n",
    "                next_nodes += [ seq + [nw.item()] ]\n",
    "                next_nodes_prob[i,j] = pro * probs[j].item()\n",
    "                \n",
    "        next_nodes_prob = next_nodes_prob.view(-1)\n",
    "        values, indices = torch.topk(next_nodes_prob, bs, dim=0)\n",
    "        for i in indices :\n",
    "            n = SamplerNode( next_nodes[i], next_nodes_prob[i] )\n",
    "            best_next_nodes += [n]\n",
    "            \n",
    "        self.nodes = best_next_nodes\n",
    "        \n",
    "    def gen_first_nodes_from_seed(self):\n",
    "        x = np.zeros([1,1], dtype=np.int32)\n",
    "        x[0,0] = self.seed_id \n",
    "        batch  = Batch(torch.from_numpy(x).long().cpu() )\n",
    "        y      = self.net.forward( batch.data, batch.mask )[0,-1,:]\n",
    "        probs , top_id = torch.topk(y, self.beam_size, dim=-1)\n",
    "        \n",
    "        for i,j in enumerate(top_id) :\n",
    "            n = SamplerNode( [self.seed_id, j.item()] , probs[i] )\n",
    "            self.nodes += [n]\n",
    "            \n",
    "    def sample(self, node):\n",
    "        # return self.beam_size (e.g. 3) suggestions for the next word, \n",
    "        # given node as current sequence\n",
    "        with torch.no_grad() :\n",
    "            batch_size = 1 \n",
    "            batch_len  = len(node)\n",
    "            x = np.zeros([batch_size, batch_len], dtype=np.int32)\n",
    "            x[0,:] = node\n",
    "            batch  = Batch(torch.from_numpy(x).long().cpu() )\n",
    "            y = self.net.forward( batch.data, batch.mask )[0,-1,:]\n",
    "            probs , top_id = torch.topk(y, self.beam_size, dim=-1)\n",
    "            \n",
    "        # the model return log probabilities, we convert them to real prob by applying exp.\n",
    "        return top_id , torch.exp(probs)\n",
    "        "
   ]
  },
  {
   "cell_type": "code",
   "execution_count": 135,
   "metadata": {},
   "outputs": [],
   "source": [
    "seed      = \"the\"\n",
    "beam_size = 10\n",
    "length    = 10\n",
    "\n",
    "bsampler = BeamSampler( net, length, beam_size, seed, id_2_word, word_to_id )"
   ]
  },
  {
   "cell_type": "code",
   "execution_count": 136,
   "metadata": {
    "scrolled": true
   },
   "outputs": [
    {
     "name": "stdout",
     "output_type": "stream",
     "text": [
      "node no. 0  , prob =  tensor(-4.1758e-33, grad_fn=<SelectBackward>)  : \n",
      "\n",
      "['the', 'the', 'almost', 'almost', 'serious', 'this', 'kind', 'with', 'in', 'early']\n",
      "node no. 1  , prob =  tensor(-3.1782e-33, grad_fn=<SelectBackward>)  : \n",
      "\n",
      "['the', 'the', 'almost', 'almost', 'serious', 'this', 'kind', 'with', 'during', 'a']\n",
      "node no. 2  , prob =  tensor(-1.4343e-33, grad_fn=<SelectBackward>)  : \n",
      "\n",
      "['the', 'the', 'almost', 'almost', 'serious', 'this', 'kind', 'with', 'during', 'his']\n",
      "node no. 3  , prob =  tensor(-2.6049e-34, grad_fn=<SelectBackward>)  : \n",
      "\n",
      "['the', 'the', 'almost', 'almost', 'serious', 'this', 'kind', 'with', 'during', 'almost']\n",
      "node no. 4  , prob =  tensor(-1.7866e-34, grad_fn=<SelectBackward>)  : \n",
      "\n",
      "['the', 'the', 'almost', 'almost', 'serious', 'this', 'kind', 'with', 'during', 'mrs.']\n",
      "node no. 5  , prob =  tensor(-9.4034e-35, grad_fn=<SelectBackward>)  : \n",
      "\n",
      "['the', 'the', 'almost', 'almost', 'serious', 'this', 'kind', 'with', 'during', 'additional']\n",
      "node no. 6  , prob =  tensor(-4.9571e-35, grad_fn=<SelectBackward>)  : \n",
      "\n",
      "['the', 'the', 'almost', 'almost', 'serious', 'this', 'kind', 'with', 'during', 'every']\n",
      "node no. 7  , prob =  tensor(-3.6224e-35, grad_fn=<SelectBackward>)  : \n",
      "\n",
      "['the', 'the', 'almost', 'almost', 'serious', 'this', 'kind', 'with', 'during', 'california']\n",
      "node no. 8  , prob =  tensor(-3.4915e-35, grad_fn=<SelectBackward>)  : \n",
      "\n",
      "['the', 'the', 'almost', 'almost', 'serious', 'this', 'kind', 'with', 'during', 'recent']\n",
      "node no. 9  , prob =  tensor(-2.6243e-35, grad_fn=<SelectBackward>)  : \n",
      "\n",
      "['the', 'the', 'almost', 'almost', 'serious', 'this', 'kind', 'with', 'during', 'five']\n"
     ]
    }
   ],
   "source": [
    "bsampler.generate_sequence()\n",
    "bsampler.print_nodes()"
   ]
  },
  {
   "cell_type": "code",
   "execution_count": 151,
   "metadata": {},
   "outputs": [],
   "source": [
    "# display 3 plots, loss for train and valid across steps and ppl across epoch\n",
    "# the steps and epochs before lim_inf are not included in the plots\n",
    "def plot_loss_and_ppl(loss, ppl , lim_inf= [0,0,0], figsize = (16,10), font_size = 16 ):\n",
    "    \n",
    "    plt.rcParams.update({'font.size': font_size})\n",
    "    plt.rcParams[\"figure.figsize\"] = figsize \n",
    "    plt.subplots_adjust(left=None, bottom=None, right=None, top=None, wspace=0.2, hspace=0.4)\n",
    "     \n",
    "    x_loss_train = np.arange( len( loss[0] ) )\n",
    "    x_loss_valid = np.arange( len( loss[1] ) )\n",
    "    x_ppl        = np.arange( len( ppl[0]  ) )\n",
    "    \n",
    "    # x_loss_train = np.linspace(1, len( loss[0] ) )\n",
    "    # x_loss_valid = np.linspace(1, len( loss[1] ) )\n",
    "    # x_ppl        = np.linspace(1, len( ppl[0]  ) )\n",
    "    \n",
    "    print(\"tab\" , len(x_loss_train) ) \n",
    "    \n",
    "    line1_label = \"train loss\"\n",
    "    line2_label = \"valid loss\"\n",
    "    line3a_label = \"train ppl\"\n",
    "    line3b_label = \"valid ppl \"\n",
    "    \n",
    "    # subplot 1\n",
    "    plt.subplot(3,1,1)\n",
    "\n",
    "    line1, = plt.plot(x_loss_train, loss[0] , \"o-\", label=line1_label)\n",
    "    line1.set_dashes([2, 2])  # 2pt line, 2pt break\n",
    "\n",
    "    str_title1 = \"For the training set\"\n",
    "    plt.title(str_title1)\n",
    "    plt.xlabel('Step')\n",
    "    plt.ylabel('Loss')\n",
    "    plt.legend()\n",
    "  \n",
    "    \n",
    "    # subplot 2\n",
    "    plt.subplot(3,1,2)\n",
    "\n",
    "    line1, = plt.plot(x_loss_valid, loss[1] , \"o-\", label=line2_label)\n",
    "    line1.set_dashes([2, 2])  # 2pt line, 2pt break\n",
    "\n",
    "    str_title2 = \"For the validation set\"\n",
    "    plt.title(str_title2)\n",
    "    plt.xlabel('Step')\n",
    "    plt.ylabel('Loss')\n",
    "    plt.legend()\n",
    "    \n",
    "    # subplot 3\n",
    "    plt.subplot(3,1,3)\n",
    "    \n",
    "    line3a, = plt.plot( x_ppl , ppl[0], \"o-\", label=line3a_label)\n",
    "    line3a.set_dashes([2, 2])  # 2pt line, 2pt break\n",
    "\n",
    "    line3b, = plt.plot( x_ppl , ppl[1], \"x-\", label=line3b_label)\n",
    "    line3b.set_dashes([2, 2])  # 2pt line, 2pt break\n",
    "    \n",
    "    str_title3 = \"Perplexities across epochs\"\n",
    "    plt.title(str_title3)\n",
    "    plt.xlabel('Epoch')\n",
    "    plt.ylabel('PPl')\n",
    "    plt.legend()\n",
    "    \n",
    "    plt.show()"
   ]
  },
  {
   "cell_type": "code",
   "execution_count": 152,
   "metadata": {},
   "outputs": [
    {
     "name": "stdout",
     "output_type": "stream",
     "text": [
      "x contains the following: \n",
      "\n",
      "train_ppls shape :  40\n",
      "val_ppls shape :  40\n",
      "train_losses shape :  16560\n",
      "val_losses shape :  1280\n",
      "tab 16560\n"
     ]
    },
    {
     "data": {
      "image/png": "[encoded data removed]",
      "text/plain": [
       "<Figure size 1152x720 with 3 Axes>"
      ]
     },
     "metadata": {
      "needs_background": "light"
     },
     "output_type": "display_data"
    }
   ],
   "source": [
    "lc_path = \"./TRANSFORMER_SGD_LR_SCHEDULE_model=TRANSFORMER_optimizer=SGD_LR_SCHEDULE_initial_lr=20_batch_size=64_seq_len=35_hidden_size=512_num_layers=6_dp_keep_prob=0.9_save_best_3\"\n",
    "lc_path += \"/learning_curves.npy\"\n",
    "x = np.load(lc_path)[()]\n",
    "\n",
    "print(\"x contains the following: \\n\")\n",
    "for k,v in x.items():\n",
    "    print(k , \"shape : \" , len(v) )\n",
    "    \n",
    "train_loss = x['train_losses']\n",
    "valid_loss = x['val_losses']\n",
    "train_ppls = x['train_ppls']\n",
    "valid_ppls = x['val_ppls']\n",
    "\n",
    "losses = [train_loss , valid_loss]\n",
    "ppls   = [train_ppls , valid_ppls]\n",
    "\n",
    "plot_loss_and_ppl( losses , ppls )"
   ]
  },
  {
   "cell_type": "code",
   "execution_count": null,
   "metadata": {},
   "outputs": [],
   "source": []
  }
 ],
 "metadata": {
  "kernelspec": {
   "display_name": "Python 3",
   "language": "python",
   "name": "python3"
  },
  "language_info": {
   "codemirror_mode": {
    "name": "ipython",
    "version": 3
   },
   "file_extension": ".py",
   "mimetype": "text/x-python",
   "name": "python",
   "nbconvert_exporter": "python",
   "pygments_lexer": "ipython3",
   "version": "3.6.5"
  }
 },
 "nbformat": 4,
 "nbformat_minor": 2
}
